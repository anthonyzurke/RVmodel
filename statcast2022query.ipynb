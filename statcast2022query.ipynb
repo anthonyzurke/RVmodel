{
 "cells": [
  {
   "cell_type": "code",
   "execution_count": 1,
   "id": "725bc7f6",
   "metadata": {},
   "outputs": [
    {
     "name": "stdout",
     "output_type": "stream",
     "text": [
      "This is a large query, it may take a moment to complete\n"
     ]
    },
    {
     "name": "stderr",
     "output_type": "stream",
     "text": [
      "100%|██████████| 179/179 [00:33<00:00,  5.40it/s]\n"
     ]
    }
   ],
   "source": [
    "from pybaseball import statcast\n",
    "\n",
    "data = statcast(start_dt = '2022-04-07', end_dt = '2022-10-02')\n",
    "\n",
    "data.to_csv('./data/mlb-pitches2022.csv')\n",
    "data = pd.read_csv('./data/mlb-pitches2022.csv')\n",
    "\n",
    "data.drop(columns = ['spin_dir', 'spin_rate_deprecated', 'break_angle_deprecated', \n",
    "                     'break_length_deprecated', 'tfs_deprecated', 'tfs_zulu_deprecated', \n",
    "                     'umpire', 'sv_id', 'game_type','pitcher.1', 'fielder_2.1', \n",
    "                     'fielder_3', 'fielder_4', 'fielder_5', 'fielder_6', 'fielder_7', \n",
    "                     'fielder_8', 'fielder_9', 'bat_score', 'fld_score', 'post_bat_score', \n",
    "                     'post_fld_score'], inplace = True)\n",
    "\n",
    "data.rename(columns = {'estimated_ba_using_speedangle': 'xba',\n",
    "                       'estimated_woba_using_speedangle': 'xwoba'}, \n",
    "            inplace = True)\n",
    "\n",
    "# Add bauer_units column\n",
    "data['bauer_units'] = data['release_spin_rate'] / data['release_speed']\n",
    "\n",
    "# Drop pitch types Fasball, knuckleball, eephus, and screwball\n",
    "pitch_values = ['SC', 'EP', 'KN', 'FA', 'CS']\n",
    "data = data[data.pitch_type.isin(pitch_values) == False]\n",
    "\n",
    "# Create is_strike column\n",
    "data['is_strike'] = [1 if x != 'B' else 0 for x in data['type']]\n",
    "# Create pitch_count column\n",
    "data['pitch_count'] = data[['balls', 'strikes']].astype(str).agg('-'.join, axis = 1)\n",
    "\n",
    "data['description'].replace(['blocked_ball', 'foul_tip', 'missed_bunt' 'swinging_strike_blocked', 'foul_bunt', \n",
    "                             'bunt_foul_tip', 'foul_pitchout'], \n",
    "                            ['ball', 'foul', 'swinging_strike', 'swinging_strike', 'foul', 'foul'],inplace = True)\n",
    "# Make all events that aren't hits, outs\n",
    "data['events'].replace(['grounded_into_double_play', 'sac_fly', 'force_out', 'fielders_choice', \n",
    "                        'fielders_choice_out'], 'field_out', inplace = True)\n",
    "# make swing_miss column\n",
    "data['swing_miss'] = [1 if x == 'swinging_strike' else 0 for x in data['description']]\n",
    "\n",
    "# Switch from catcher's perspective to pitcher's perspective\n",
    "# Catcher's POV: (plate_x, plate_z)\n",
    "# Pitcher's POV: (plate_-x, plate_z)\n",
    "data['plate_-x'] = -data['plate_x']\n",
    "\n",
    "# Switch from catcher's perspective to pitcher's perspective\n",
    "# Catcher's POV: (release_pos_x, release_pos_z)\n",
    "# Pitcher's POV: (release_pos_-x, release_pos_z)\n",
    "data['release_pos_-x'] = -data['release_pos_x']\n",
    "\n",
    "# Switch HB to perspective of pitcher\n",
    "# Catcher's POV: (pfx_x, pfx_z)\n",
    "# Pitcher's POV: (pfx_-x, pfx_z)\n",
    "data['pfx_-x'] = -data['pfx_x']\n",
    "\n",
    "# HB and VB in feet should be in inches (*12)\n",
    "data['pfx_x'] = 12 * data['pfx_x']\n",
    "data['pfx_-x'] = 12 * data['pfx_-x']\n",
    "data['pfx_z'] = 12 * data['pfx_z']\n",
    "\n",
    "data.to_csv('./data/mlb-pitches2022.csv')"
   ]
  }
 ],
 "metadata": {
  "kernelspec": {
   "display_name": "Python 3",
   "language": "python",
   "name": "python3"
  },
  "language_info": {
   "codemirror_mode": {
    "name": "ipython",
    "version": 3
   },
   "file_extension": ".py",
   "mimetype": "text/x-python",
   "name": "python",
   "nbconvert_exporter": "python",
   "pygments_lexer": "ipython3",
   "version": "3.8.8"
  }
 },
 "nbformat": 4,
 "nbformat_minor": 5
}
