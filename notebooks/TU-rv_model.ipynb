{
 "cells": [
  {
   "cell_type": "markdown",
   "id": "426268f7",
   "metadata": {},
   "source": [
    "# Notebook Contents\n",
    "\n",
    "- [Imports](#Imports)\n",
    "- [Data](#Data)\n",
    "- [Features](#Features)\n",
    "- [Random Forest](#Random-Forest-Regression-Model)\n",
    "    - [Fastball RHP](#Fastball-RHP)\n",
    "    - [Fastball LHP](#Fastball-LHP)\n",
    "    - [Breaking Ball RHP](#Breaking-Ball-RHP)\n",
    "    - [BreakingBall LHP](#Breaking-Ball-LHP)\n",
    "    - [Off Speed RHP](#Off-Speed-RHP)\n",
    "    - [Off Speed LHP](#Off-Speed-LHP)"
   ]
  },
  {
   "cell_type": "markdown",
   "id": "9a8c2c47",
   "metadata": {},
   "source": [
    "# Imports"
   ]
  },
  {
   "cell_type": "code",
   "execution_count": 1,
   "id": "3b41894e",
   "metadata": {},
   "outputs": [],
   "source": [
    "from sklearn import metrics\n",
    "from sklearn.model_selection import train_test_split, cross_val_score, GridSearchCV, ShuffleSplit\n",
    "from sklearn import linear_model\n",
    "from sklearn.linear_model import LinearRegression\n",
    "from sklearn.ensemble import RandomForestRegressor\n",
    "from sklearn.preprocessing import scale, StandardScaler\n",
    "from statsmodels.stats.outliers_influence import variance_inflation_factor\n",
    "from matplotlib.patches import Rectangle\n",
    "\n",
    "import warnings\n",
    "warnings.filterwarnings('ignore')"
   ]
  },
  {
   "cell_type": "markdown",
   "id": "7a31fda9",
   "metadata": {},
   "source": [
    "# Data"
   ]
  },
  {
   "cell_type": "code",
   "execution_count": 2,
   "id": "26fea18e",
   "metadata": {},
   "outputs": [
    {
     "name": "stdout",
     "output_type": "stream",
     "text": [
      "(682572, 65)\n"
     ]
    },
    {
     "data": {
      "text/html": [
       "<div><div id=47763fa4-8af3-4ea4-afd7-8b3f630e944b style=\"display:none; background-color:#9D6CFF; color:white; width:200px; height:30px; padding-left:5px; border-radius:4px; flex-direction:row; justify-content:space-around; align-items:center;\" onmouseover=\"this.style.backgroundColor='#BA9BF8'\" onmouseout=\"this.style.backgroundColor='#9D6CFF'\" onclick=\"window.commands?.execute('create-mitosheet-from-dataframe-output');\">See Full Dataframe in Mito</div> <script> if (window.commands.hasCommand('create-mitosheet-from-dataframe-output')) document.getElementById('47763fa4-8af3-4ea4-afd7-8b3f630e944b').style.display = 'flex' </script> <table border=\"1\" class=\"dataframe\">\n",
       "  <thead>\n",
       "    <tr style=\"text-align: right;\">\n",
       "      <th></th>\n",
       "      <th>player_name</th>\n",
       "      <th>p_throws</th>\n",
       "      <th>pitch_type</th>\n",
       "      <th>velo</th>\n",
       "      <th>spin_rate</th>\n",
       "      <th>spin_axis</th>\n",
       "      <th>pfx_x</th>\n",
       "      <th>pfx_z</th>\n",
       "      <th>bauer_units</th>\n",
       "      <th>effective_speed</th>\n",
       "      <th>release_pos_x</th>\n",
       "      <th>release_pos_z</th>\n",
       "      <th>release_extension</th>\n",
       "      <th>release_pos_y</th>\n",
       "      <th>plate_x</th>\n",
       "      <th>plate_z</th>\n",
       "      <th>type</th>\n",
       "      <th>balls</th>\n",
       "      <th>strikes</th>\n",
       "      <th>pitch_count</th>\n",
       "      <th>stand</th>\n",
       "      <th>bb_type</th>\n",
       "      <th>description</th>\n",
       "      <th>events</th>\n",
       "      <th>hit_distance_sc</th>\n",
       "      <th>exit_velo</th>\n",
       "      <th>launch_angle</th>\n",
       "      <th>woba_value</th>\n",
       "      <th>woba_denom</th>\n",
       "      <th>xwoba</th>\n",
       "      <th>at_bat_number</th>\n",
       "      <th>pitch_number</th>\n",
       "      <th>inning</th>\n",
       "      <th>inning_topbot</th>\n",
       "      <th>home_score</th>\n",
       "      <th>away_score</th>\n",
       "      <th>post_home_score</th>\n",
       "      <th>post_away_score</th>\n",
       "      <th>on_1b</th>\n",
       "      <th>on_2b</th>\n",
       "      <th>on_3b</th>\n",
       "      <th>outs_when_up</th>\n",
       "      <th>pitch_type2</th>\n",
       "      <th>arm_angle</th>\n",
       "      <th>slot</th>\n",
       "      <th>whiff</th>\n",
       "      <th>is_strike</th>\n",
       "      <th>is_ball</th>\n",
       "      <th>final_pitch_ab</th>\n",
       "      <th>out_to_end_inning</th>\n",
       "      <th>home_runs</th>\n",
       "      <th>away_runs</th>\n",
       "      <th>runs</th>\n",
       "      <th>re</th>\n",
       "      <th>re_change</th>\n",
       "      <th>re_end_state</th>\n",
       "      <th>re24</th>\n",
       "      <th>lin_weight_above_avg</th>\n",
       "      <th>lin_weight_rel_outs</th>\n",
       "      <th>woba_scale</th>\n",
       "      <th>lin_weights_above_avg_scale</th>\n",
       "      <th>lin_weights_rel_outs_scale</th>\n",
       "      <th>woba</th>\n",
       "      <th>wraa_change</th>\n",
       "      <th>rv</th>\n",
       "    </tr>\n",
       "  </thead>\n",
       "  <tbody>\n",
       "    <tr>\n",
       "      <th>0</th>\n",
       "      <td>Zastryzny, Rob</td>\n",
       "      <td>L</td>\n",
       "      <td>FF</td>\n",
       "      <td>93.5</td>\n",
       "      <td>2451.0</td>\n",
       "      <td>167.0</td>\n",
       "      <td>-3.36</td>\n",
       "      <td>17.40</td>\n",
       "      <td>26.213904</td>\n",
       "      <td>94.6</td>\n",
       "      <td>-1.70</td>\n",
       "      <td>5.95</td>\n",
       "      <td>6.6</td>\n",
       "      <td>53.88</td>\n",
       "      <td>0.76</td>\n",
       "      <td>3.38</td>\n",
       "      <td>S</td>\n",
       "      <td>2</td>\n",
       "      <td>2</td>\n",
       "      <td>2-2</td>\n",
       "      <td>L</td>\n",
       "      <td>NaN</td>\n",
       "      <td>strike</td>\n",
       "      <td>field_out</td>\n",
       "      <td>NaN</td>\n",
       "      <td>NaN</td>\n",
       "      <td>NaN</td>\n",
       "      <td>0.0</td>\n",
       "      <td>1.0</td>\n",
       "      <td>NaN</td>\n",
       "      <td>78.0</td>\n",
       "      <td>6.0</td>\n",
       "      <td>9</td>\n",
       "      <td>0</td>\n",
       "      <td>8.0</td>\n",
       "      <td>3.0</td>\n",
       "      <td>8.0</td>\n",
       "      <td>3.0</td>\n",
       "      <td>0</td>\n",
       "      <td>0</td>\n",
       "      <td>0</td>\n",
       "      <td>2</td>\n",
       "      <td>FF</td>\n",
       "      <td>32.4</td>\n",
       "      <td>1</td>\n",
       "      <td>0</td>\n",
       "      <td>1</td>\n",
       "      <td>0</td>\n",
       "      <td>1</td>\n",
       "      <td>1</td>\n",
       "      <td>0.0</td>\n",
       "      <td>0.0</td>\n",
       "      <td>0.0</td>\n",
       "      <td>0.11</td>\n",
       "      <td>-0.11</td>\n",
       "      <td>0.00</td>\n",
       "      <td>-0.11</td>\n",
       "      <td>-0.27</td>\n",
       "      <td>0.001</td>\n",
       "      <td>1.209</td>\n",
       "      <td>-0.326</td>\n",
       "      <td>0.001</td>\n",
       "      <td>0.269</td>\n",
       "      <td>-0.184</td>\n",
       "      <td>-0.110</td>\n",
       "    </tr>\n",
       "    <tr>\n",
       "      <th>1</th>\n",
       "      <td>Zastryzny, Rob</td>\n",
       "      <td>L</td>\n",
       "      <td>CU</td>\n",
       "      <td>80.9</td>\n",
       "      <td>2266.0</td>\n",
       "      <td>273.0</td>\n",
       "      <td>13.44</td>\n",
       "      <td>-0.96</td>\n",
       "      <td>28.009889</td>\n",
       "      <td>81.1</td>\n",
       "      <td>-2.06</td>\n",
       "      <td>5.59</td>\n",
       "      <td>6.5</td>\n",
       "      <td>53.95</td>\n",
       "      <td>0.66</td>\n",
       "      <td>0.49</td>\n",
       "      <td>B</td>\n",
       "      <td>1</td>\n",
       "      <td>2</td>\n",
       "      <td>1-2</td>\n",
       "      <td>L</td>\n",
       "      <td>NaN</td>\n",
       "      <td>ball</td>\n",
       "      <td>NaN</td>\n",
       "      <td>NaN</td>\n",
       "      <td>NaN</td>\n",
       "      <td>NaN</td>\n",
       "      <td>NaN</td>\n",
       "      <td>NaN</td>\n",
       "      <td>NaN</td>\n",
       "      <td>78.0</td>\n",
       "      <td>5.0</td>\n",
       "      <td>9</td>\n",
       "      <td>0</td>\n",
       "      <td>8.0</td>\n",
       "      <td>3.0</td>\n",
       "      <td>8.0</td>\n",
       "      <td>3.0</td>\n",
       "      <td>0</td>\n",
       "      <td>0</td>\n",
       "      <td>0</td>\n",
       "      <td>2</td>\n",
       "      <td>CU</td>\n",
       "      <td>35.2</td>\n",
       "      <td>1</td>\n",
       "      <td>0</td>\n",
       "      <td>0</td>\n",
       "      <td>1</td>\n",
       "      <td>0</td>\n",
       "      <td>0</td>\n",
       "      <td>0.0</td>\n",
       "      <td>0.0</td>\n",
       "      <td>0.0</td>\n",
       "      <td>0.11</td>\n",
       "      <td>0.00</td>\n",
       "      <td>0.11</td>\n",
       "      <td>0.00</td>\n",
       "      <td>NaN</td>\n",
       "      <td>NaN</td>\n",
       "      <td>1.209</td>\n",
       "      <td>0.000</td>\n",
       "      <td>0.000</td>\n",
       "      <td>0.222</td>\n",
       "      <td>0.032</td>\n",
       "      <td>0.032</td>\n",
       "    </tr>\n",
       "    <tr>\n",
       "      <th>2</th>\n",
       "      <td>Zastryzny, Rob</td>\n",
       "      <td>L</td>\n",
       "      <td>FF</td>\n",
       "      <td>92.3</td>\n",
       "      <td>2321.0</td>\n",
       "      <td>157.0</td>\n",
       "      <td>-3.36</td>\n",
       "      <td>18.96</td>\n",
       "      <td>25.146262</td>\n",
       "      <td>92.8</td>\n",
       "      <td>-1.65</td>\n",
       "      <td>5.93</td>\n",
       "      <td>6.7</td>\n",
       "      <td>53.84</td>\n",
       "      <td>0.20</td>\n",
       "      <td>3.12</td>\n",
       "      <td>S</td>\n",
       "      <td>1</td>\n",
       "      <td>2</td>\n",
       "      <td>1-2</td>\n",
       "      <td>L</td>\n",
       "      <td>NaN</td>\n",
       "      <td>strike</td>\n",
       "      <td>NaN</td>\n",
       "      <td>NaN</td>\n",
       "      <td>NaN</td>\n",
       "      <td>NaN</td>\n",
       "      <td>NaN</td>\n",
       "      <td>NaN</td>\n",
       "      <td>NaN</td>\n",
       "      <td>78.0</td>\n",
       "      <td>4.0</td>\n",
       "      <td>9</td>\n",
       "      <td>0</td>\n",
       "      <td>8.0</td>\n",
       "      <td>3.0</td>\n",
       "      <td>8.0</td>\n",
       "      <td>3.0</td>\n",
       "      <td>0</td>\n",
       "      <td>0</td>\n",
       "      <td>0</td>\n",
       "      <td>2</td>\n",
       "      <td>FF</td>\n",
       "      <td>32.4</td>\n",
       "      <td>1</td>\n",
       "      <td>0</td>\n",
       "      <td>1</td>\n",
       "      <td>0</td>\n",
       "      <td>0</td>\n",
       "      <td>0</td>\n",
       "      <td>0.0</td>\n",
       "      <td>0.0</td>\n",
       "      <td>0.0</td>\n",
       "      <td>0.11</td>\n",
       "      <td>0.00</td>\n",
       "      <td>0.11</td>\n",
       "      <td>0.00</td>\n",
       "      <td>NaN</td>\n",
       "      <td>NaN</td>\n",
       "      <td>1.209</td>\n",
       "      <td>0.000</td>\n",
       "      <td>0.000</td>\n",
       "      <td>0.222</td>\n",
       "      <td>-0.152</td>\n",
       "      <td>-0.152</td>\n",
       "    </tr>\n",
       "    <tr>\n",
       "      <th>3</th>\n",
       "      <td>Zastryzny, Rob</td>\n",
       "      <td>L</td>\n",
       "      <td>FF</td>\n",
       "      <td>94.3</td>\n",
       "      <td>2391.0</td>\n",
       "      <td>159.0</td>\n",
       "      <td>-4.80</td>\n",
       "      <td>17.28</td>\n",
       "      <td>25.355249</td>\n",
       "      <td>94.4</td>\n",
       "      <td>-1.65</td>\n",
       "      <td>5.93</td>\n",
       "      <td>6.4</td>\n",
       "      <td>54.09</td>\n",
       "      <td>-0.53</td>\n",
       "      <td>3.69</td>\n",
       "      <td>B</td>\n",
       "      <td>0</td>\n",
       "      <td>2</td>\n",
       "      <td>0-2</td>\n",
       "      <td>L</td>\n",
       "      <td>NaN</td>\n",
       "      <td>ball</td>\n",
       "      <td>NaN</td>\n",
       "      <td>NaN</td>\n",
       "      <td>NaN</td>\n",
       "      <td>NaN</td>\n",
       "      <td>NaN</td>\n",
       "      <td>NaN</td>\n",
       "      <td>NaN</td>\n",
       "      <td>78.0</td>\n",
       "      <td>3.0</td>\n",
       "      <td>9</td>\n",
       "      <td>0</td>\n",
       "      <td>8.0</td>\n",
       "      <td>3.0</td>\n",
       "      <td>8.0</td>\n",
       "      <td>3.0</td>\n",
       "      <td>0</td>\n",
       "      <td>0</td>\n",
       "      <td>0</td>\n",
       "      <td>2</td>\n",
       "      <td>FF</td>\n",
       "      <td>32.4</td>\n",
       "      <td>1</td>\n",
       "      <td>0</td>\n",
       "      <td>0</td>\n",
       "      <td>1</td>\n",
       "      <td>0</td>\n",
       "      <td>0</td>\n",
       "      <td>0.0</td>\n",
       "      <td>0.0</td>\n",
       "      <td>0.0</td>\n",
       "      <td>0.11</td>\n",
       "      <td>0.00</td>\n",
       "      <td>0.11</td>\n",
       "      <td>0.00</td>\n",
       "      <td>NaN</td>\n",
       "      <td>NaN</td>\n",
       "      <td>1.209</td>\n",
       "      <td>0.000</td>\n",
       "      <td>0.000</td>\n",
       "      <td>0.197</td>\n",
       "      <td>0.017</td>\n",
       "      <td>0.017</td>\n",
       "    </tr>\n",
       "    <tr>\n",
       "      <th>4</th>\n",
       "      <td>Zastryzny, Rob</td>\n",
       "      <td>L</td>\n",
       "      <td>FF</td>\n",
       "      <td>93.4</td>\n",
       "      <td>2446.0</td>\n",
       "      <td>156.0</td>\n",
       "      <td>-3.60</td>\n",
       "      <td>18.00</td>\n",
       "      <td>26.188437</td>\n",
       "      <td>93.3</td>\n",
       "      <td>-1.81</td>\n",
       "      <td>5.93</td>\n",
       "      <td>6.4</td>\n",
       "      <td>54.13</td>\n",
       "      <td>0.62</td>\n",
       "      <td>2.19</td>\n",
       "      <td>S</td>\n",
       "      <td>0</td>\n",
       "      <td>1</td>\n",
       "      <td>0-1</td>\n",
       "      <td>L</td>\n",
       "      <td>NaN</td>\n",
       "      <td>strike</td>\n",
       "      <td>NaN</td>\n",
       "      <td>NaN</td>\n",
       "      <td>NaN</td>\n",
       "      <td>NaN</td>\n",
       "      <td>NaN</td>\n",
       "      <td>NaN</td>\n",
       "      <td>NaN</td>\n",
       "      <td>78.0</td>\n",
       "      <td>2.0</td>\n",
       "      <td>9</td>\n",
       "      <td>0</td>\n",
       "      <td>8.0</td>\n",
       "      <td>3.0</td>\n",
       "      <td>8.0</td>\n",
       "      <td>3.0</td>\n",
       "      <td>0</td>\n",
       "      <td>0</td>\n",
       "      <td>0</td>\n",
       "      <td>2</td>\n",
       "      <td>FF</td>\n",
       "      <td>32.4</td>\n",
       "      <td>1</td>\n",
       "      <td>0</td>\n",
       "      <td>1</td>\n",
       "      <td>0</td>\n",
       "      <td>0</td>\n",
       "      <td>0</td>\n",
       "      <td>0.0</td>\n",
       "      <td>0.0</td>\n",
       "      <td>0.0</td>\n",
       "      <td>0.11</td>\n",
       "      <td>0.00</td>\n",
       "      <td>0.11</td>\n",
       "      <td>0.00</td>\n",
       "      <td>NaN</td>\n",
       "      <td>NaN</td>\n",
       "      <td>1.209</td>\n",
       "      <td>0.000</td>\n",
       "      <td>0.000</td>\n",
       "      <td>0.265</td>\n",
       "      <td>-0.047</td>\n",
       "      <td>-0.047</td>\n",
       "    </tr>\n",
       "  </tbody>\n",
       "</table></div>"
      ],
      "text/plain": [
       "      player_name p_throws pitch_type  velo  spin_rate  spin_axis  pfx_x  \\\n",
       "0  Zastryzny, Rob        L         FF  93.5     2451.0      167.0  -3.36   \n",
       "1  Zastryzny, Rob        L         CU  80.9     2266.0      273.0  13.44   \n",
       "2  Zastryzny, Rob        L         FF  92.3     2321.0      157.0  -3.36   \n",
       "3  Zastryzny, Rob        L         FF  94.3     2391.0      159.0  -4.80   \n",
       "4  Zastryzny, Rob        L         FF  93.4     2446.0      156.0  -3.60   \n",
       "\n",
       "   pfx_z  bauer_units  effective_speed  release_pos_x  release_pos_z  \\\n",
       "0  17.40    26.213904             94.6          -1.70           5.95   \n",
       "1  -0.96    28.009889             81.1          -2.06           5.59   \n",
       "2  18.96    25.146262             92.8          -1.65           5.93   \n",
       "3  17.28    25.355249             94.4          -1.65           5.93   \n",
       "4  18.00    26.188437             93.3          -1.81           5.93   \n",
       "\n",
       "   release_extension  release_pos_y  plate_x  plate_z type  balls  strikes  \\\n",
       "0                6.6          53.88     0.76     3.38    S      2        2   \n",
       "1                6.5          53.95     0.66     0.49    B      1        2   \n",
       "2                6.7          53.84     0.20     3.12    S      1        2   \n",
       "3                6.4          54.09    -0.53     3.69    B      0        2   \n",
       "4                6.4          54.13     0.62     2.19    S      0        1   \n",
       "\n",
       "  pitch_count stand bb_type description     events  hit_distance_sc  \\\n",
       "0         2-2     L     NaN      strike  field_out              NaN   \n",
       "1         1-2     L     NaN        ball        NaN              NaN   \n",
       "2         1-2     L     NaN      strike        NaN              NaN   \n",
       "3         0-2     L     NaN        ball        NaN              NaN   \n",
       "4         0-1     L     NaN      strike        NaN              NaN   \n",
       "\n",
       "   exit_velo  launch_angle  woba_value  woba_denom  xwoba  at_bat_number  \\\n",
       "0        NaN           NaN         0.0         1.0    NaN           78.0   \n",
       "1        NaN           NaN         NaN         NaN    NaN           78.0   \n",
       "2        NaN           NaN         NaN         NaN    NaN           78.0   \n",
       "3        NaN           NaN         NaN         NaN    NaN           78.0   \n",
       "4        NaN           NaN         NaN         NaN    NaN           78.0   \n",
       "\n",
       "   pitch_number  inning  inning_topbot  home_score  away_score  \\\n",
       "0           6.0       9              0         8.0         3.0   \n",
       "1           5.0       9              0         8.0         3.0   \n",
       "2           4.0       9              0         8.0         3.0   \n",
       "3           3.0       9              0         8.0         3.0   \n",
       "4           2.0       9              0         8.0         3.0   \n",
       "\n",
       "   post_home_score  post_away_score  on_1b  on_2b  on_3b  outs_when_up  \\\n",
       "0              8.0              3.0      0      0      0             2   \n",
       "1              8.0              3.0      0      0      0             2   \n",
       "2              8.0              3.0      0      0      0             2   \n",
       "3              8.0              3.0      0      0      0             2   \n",
       "4              8.0              3.0      0      0      0             2   \n",
       "\n",
       "  pitch_type2  arm_angle  slot  whiff  is_strike  is_ball  final_pitch_ab  \\\n",
       "0          FF       32.4     1      0          1        0               1   \n",
       "1          CU       35.2     1      0          0        1               0   \n",
       "2          FF       32.4     1      0          1        0               0   \n",
       "3          FF       32.4     1      0          0        1               0   \n",
       "4          FF       32.4     1      0          1        0               0   \n",
       "\n",
       "   out_to_end_inning  home_runs  away_runs  runs    re  re_change  \\\n",
       "0                  1        0.0        0.0   0.0  0.11      -0.11   \n",
       "1                  0        0.0        0.0   0.0  0.11       0.00   \n",
       "2                  0        0.0        0.0   0.0  0.11       0.00   \n",
       "3                  0        0.0        0.0   0.0  0.11       0.00   \n",
       "4                  0        0.0        0.0   0.0  0.11       0.00   \n",
       "\n",
       "   re_end_state  re24  lin_weight_above_avg  lin_weight_rel_outs  woba_scale  \\\n",
       "0          0.00 -0.11                 -0.27                0.001       1.209   \n",
       "1          0.11  0.00                   NaN                  NaN       1.209   \n",
       "2          0.11  0.00                   NaN                  NaN       1.209   \n",
       "3          0.11  0.00                   NaN                  NaN       1.209   \n",
       "4          0.11  0.00                   NaN                  NaN       1.209   \n",
       "\n",
       "   lin_weights_above_avg_scale  lin_weights_rel_outs_scale   woba  \\\n",
       "0                       -0.326                       0.001  0.269   \n",
       "1                        0.000                       0.000  0.222   \n",
       "2                        0.000                       0.000  0.222   \n",
       "3                        0.000                       0.000  0.197   \n",
       "4                        0.000                       0.000  0.265   \n",
       "\n",
       "   wraa_change     rv  \n",
       "0       -0.184 -0.110  \n",
       "1        0.032  0.032  \n",
       "2       -0.152 -0.152  \n",
       "3        0.017  0.017  \n",
       "4       -0.047 -0.047  "
      ]
     },
     "execution_count": 2,
     "metadata": {},
     "output_type": "execute_result"
    }
   ],
   "source": [
    "data = pd.read_csv('../data/model-pitches-rv2022.csv', index_col = [0])\n",
    "tu = pd.read_csv('../data/season23.csv')\n",
    "tu = tu.loc[tu['PitcherTeam'] == 'TUS_PIO']\n",
    "tu = tu[['Pitcher', 'PitcherThrows', 'TaggedPitchType', 'RelSpeed', 'InducedVertBreak', 'HorzBreak', \n",
    "         'RelSide', 'RelHeight', 'Extension']]\n",
    "tu['TaggedPitchType'].replace(['Fastball'], 'Four-Seam', inplace = True)\n",
    "tu['TaggedPitchType'].replace(['FourSeamFastBall'], 'Four-Seam', inplace = True)\n",
    "tu['TaggedPitchType'].replace(['TwoSeamFastBall'], 'Four-Seam', inplace = True)\n",
    "tu.dropna(inplace=True)\n",
    "pd.set_option('max_columns', None)\n",
    "#data.dropna(inplace = True)\n",
    "print(data.shape)\n",
    "data.head()"
   ]
  },
  {
   "cell_type": "code",
   "execution_count": 3,
   "id": "6da37190",
   "metadata": {
    "scrolled": true
   },
   "outputs": [
    {
     "data": {
      "text/html": [
       "<div><div id=4f1e62e6-639d-4ac8-a2f9-ac84ae5fdbc2 style=\"display:none; background-color:#9D6CFF; color:white; width:200px; height:30px; padding-left:5px; border-radius:4px; flex-direction:row; justify-content:space-around; align-items:center;\" onmouseover=\"this.style.backgroundColor='#BA9BF8'\" onmouseout=\"this.style.backgroundColor='#9D6CFF'\" onclick=\"window.commands?.execute('create-mitosheet-from-dataframe-output');\">See Full Dataframe in Mito</div> <script> if (window.commands.hasCommand('create-mitosheet-from-dataframe-output')) document.getElementById('4f1e62e6-639d-4ac8-a2f9-ac84ae5fdbc2').style.display = 'flex' </script> <table border=\"1\" class=\"dataframe\">\n",
       "  <thead>\n",
       "    <tr style=\"text-align: right;\">\n",
       "      <th></th>\n",
       "      <th>Pitcher</th>\n",
       "      <th>PitcherThrows</th>\n",
       "      <th>TaggedPitchType</th>\n",
       "      <th>RelSpeed</th>\n",
       "      <th>InducedVertBreak</th>\n",
       "      <th>HorzBreak</th>\n",
       "      <th>RelSide</th>\n",
       "      <th>RelHeight</th>\n",
       "      <th>Extension</th>\n",
       "    </tr>\n",
       "  </thead>\n",
       "  <tbody>\n",
       "    <tr>\n",
       "      <th>0</th>\n",
       "      <td>Salyards, Brady</td>\n",
       "      <td>Right</td>\n",
       "      <td>Four-Seam</td>\n",
       "      <td>87.3</td>\n",
       "      <td>12.7</td>\n",
       "      <td>16.7</td>\n",
       "      <td>2.3</td>\n",
       "      <td>5.8</td>\n",
       "      <td>6.3</td>\n",
       "    </tr>\n",
       "    <tr>\n",
       "      <th>1</th>\n",
       "      <td>Salyards, Brady</td>\n",
       "      <td>Right</td>\n",
       "      <td>Four-Seam</td>\n",
       "      <td>86.4</td>\n",
       "      <td>17.6</td>\n",
       "      <td>13.3</td>\n",
       "      <td>2.2</td>\n",
       "      <td>5.7</td>\n",
       "      <td>6.3</td>\n",
       "    </tr>\n",
       "    <tr>\n",
       "      <th>2</th>\n",
       "      <td>Salyards, Brady</td>\n",
       "      <td>Right</td>\n",
       "      <td>Slider</td>\n",
       "      <td>79.7</td>\n",
       "      <td>5.2</td>\n",
       "      <td>-4.7</td>\n",
       "      <td>2.0</td>\n",
       "      <td>5.8</td>\n",
       "      <td>6.1</td>\n",
       "    </tr>\n",
       "    <tr>\n",
       "      <th>3</th>\n",
       "      <td>Salyards, Brady</td>\n",
       "      <td>Right</td>\n",
       "      <td>Slider</td>\n",
       "      <td>80.7</td>\n",
       "      <td>8.1</td>\n",
       "      <td>-5.8</td>\n",
       "      <td>2.1</td>\n",
       "      <td>5.8</td>\n",
       "      <td>5.9</td>\n",
       "    </tr>\n",
       "    <tr>\n",
       "      <th>4</th>\n",
       "      <td>Salyards, Brady</td>\n",
       "      <td>Right</td>\n",
       "      <td>Four-Seam</td>\n",
       "      <td>87.5</td>\n",
       "      <td>14.1</td>\n",
       "      <td>14.0</td>\n",
       "      <td>2.3</td>\n",
       "      <td>5.6</td>\n",
       "      <td>6.4</td>\n",
       "    </tr>\n",
       "  </tbody>\n",
       "</table></div>"
      ],
      "text/plain": [
       "           Pitcher PitcherThrows TaggedPitchType  RelSpeed  InducedVertBreak  \\\n",
       "0  Salyards, Brady         Right       Four-Seam      87.3              12.7   \n",
       "1  Salyards, Brady         Right       Four-Seam      86.4              17.6   \n",
       "2  Salyards, Brady         Right          Slider      79.7               5.2   \n",
       "3  Salyards, Brady         Right          Slider      80.7               8.1   \n",
       "4  Salyards, Brady         Right       Four-Seam      87.5              14.1   \n",
       "\n",
       "   HorzBreak  RelSide  RelHeight  Extension  \n",
       "0       16.7      2.3        5.8        6.3  \n",
       "1       13.3      2.2        5.7        6.3  \n",
       "2       -4.7      2.0        5.8        6.1  \n",
       "3       -5.8      2.1        5.8        5.9  \n",
       "4       14.0      2.3        5.6        6.4  "
      ]
     },
     "execution_count": 3,
     "metadata": {},
     "output_type": "execute_result"
    }
   ],
   "source": [
    "tu.head()"
   ]
  },
  {
   "cell_type": "markdown",
   "id": "604ebd53",
   "metadata": {},
   "source": [
    "# Features\n",
    "\n",
    "**Independent Variables:** Velocity, HB, VB, Release Side, Release Height, Release Extension\n",
    "\n",
    "**Dependent Variable:** Run Value"
   ]
  },
  {
   "cell_type": "markdown",
   "id": "c66b4e2c",
   "metadata": {},
   "source": [
    "### Multicolinearity - VIF"
   ]
  },
  {
   "cell_type": "code",
   "execution_count": 4,
   "id": "1451d2da",
   "metadata": {},
   "outputs": [],
   "source": [
    "features = data[['player_name', 'p_throws', 'pitch_type', 'velo', 'pfx_x', 'pfx_z', \n",
    "                 'release_pos_x', 'release_pos_z', 'release_extension', 'rv']]\n",
    "\n",
    "features_tu = tu[['Pitcher', 'PitcherThrows', 'TaggedPitchType', 'RelSpeed', 'InducedVertBreak', 'HorzBreak', \n",
    "                 'RelSide', 'RelHeight', 'Extension']]\n",
    "\n",
    "#features_vif = features.select_dtypes([np.number])\n",
    "#vif_data = pd.DataFrame()\n",
    "#vif_data[\"feature\"] = features_vif.columns\n",
    "#\n",
    "#vif_data[\"VIF\"] = [variance_inflation_factor(features_vif.values, i)\n",
    "#                   for i in range(len(features_vif.columns))]\n",
    "#\n",
    "#print(vif_data.sort_values(by = 'VIF'))"
   ]
  },
  {
   "cell_type": "code",
   "execution_count": 5,
   "id": "7abdf62a",
   "metadata": {},
   "outputs": [],
   "source": [
    "fb = features[features['pitch_type'].isin(['FF', 'SI'])]\n",
    "bb = features[features['pitch_type'].isin(['SL', 'FC', 'CU', 'KC'])]\n",
    "os = features[features['pitch_type'].isin(['CH', 'FS'])]\n",
    "rhp = features.loc[features['p_throws'] == 'R']\n",
    "lhp = features.loc[features['p_throws'] == 'L']\n",
    "rhp_fb = fb.loc[fb['p_throws'] == 'R']\n",
    "lhp_fb = fb.loc[fb['p_throws'] == 'L']\n",
    "rhp_bb = bb.loc[bb['p_throws'] == 'R']\n",
    "lhp_bb = bb.loc[bb['p_throws'] == 'L']\n",
    "rhp_os = os.loc[os['p_throws'] == 'R']\n",
    "lhp_os = os.loc[os['p_throws'] == 'L']\n",
    "\n",
    "fb_tu = features_tu[features_tu['TaggedPitchType'].isin(['Four-Seam'])]\n",
    "bb_tu = features_tu[features_tu['TaggedPitchType'].isin(['Slider', 'Cutter', 'Curveball'])]\n",
    "os_tu = features_tu[features_tu['TaggedPitchType'].isin(['ChangeUp', 'Splitter'])]\n",
    "rhp_tu = features_tu.loc[features_tu['PitcherThrows'] == 'R']\n",
    "lhp_tu = features_tu.loc[features_tu['PitcherThrows'] == 'L']\n",
    "rhp_fb_tu = fb_tu.loc[fb_tu['PitcherThrows'] == 'Right']\n",
    "lhp_fb_tu = fb_tu.loc[fb_tu['PitcherThrows'] == 'Left']\n",
    "rhp_bb_tu = bb_tu.loc[bb_tu['PitcherThrows'] == 'Right']\n",
    "lhp_bb_tu = bb_tu.loc[bb_tu['PitcherThrows'] == 'Left']\n",
    "rhp_os_tu = os_tu.loc[os_tu['PitcherThrows'] == 'Right']\n",
    "lhp_os_tu = os_tu.loc[os_tu['PitcherThrows'] == 'Left']"
   ]
  },
  {
   "cell_type": "markdown",
   "id": "11f6154a",
   "metadata": {},
   "source": [
    "# Random Forest Regression Model"
   ]
  },
  {
   "cell_type": "markdown",
   "id": "8cdd6fb5",
   "metadata": {},
   "source": [
    "## Fastball RHP Grouped\n",
    "\n",
    "#### 4-Seam, Sinker"
   ]
  },
  {
   "cell_type": "code",
   "execution_count": 6,
   "id": "1f6676ca",
   "metadata": {},
   "outputs": [
    {
     "name": "stdout",
     "output_type": "stream",
     "text": [
      "Baseline RHP Fastball RunValue Accuracy Score: -0.01\n"
     ]
    }
   ],
   "source": [
    "print('Baseline RHP Fastball RunValue Accuracy Score:', round(rhp_fb.rv.mean(), 2))"
   ]
  },
  {
   "cell_type": "code",
   "execution_count": 7,
   "id": "803096d1",
   "metadata": {},
   "outputs": [
    {
     "name": "stdout",
     "output_type": "stream",
     "text": [
      "Test R2 Score: 0.001\n",
      "Test RMSE: 0.254\n",
      "Test MAE: 0.131\n",
      "Cross Val Score: [0.0004304  0.0004494  0.00084627 0.00120621 0.00082103]\n",
      "Cross Val Score: 0.001 \n",
      "\n",
      "R2 Score: 0.001\n",
      "RMSE: 0.255\n",
      "MAE: 0.131\n"
     ]
    }
   ],
   "source": [
    "features_fb_r = rhp_fb.select_dtypes([np.number])\n",
    "X = features_fb_r.drop(columns = ['rv'])\n",
    "y = features_fb_r['rv']\n",
    "\n",
    "X_train, X_test, y_train, y_test = train_test_split(X, y, test_size = .25, random_state = 1)\n",
    "\n",
    "lr = LinearRegression(n_jobs = -1).fit(X_train, y_train)\n",
    "\n",
    "pred_fb_r = lr.predict(X_test)\n",
    "pred = lr.predict(X)\n",
    "\n",
    "cv = ShuffleSplit(n_splits=5, test_size=0.2, random_state=1)\n",
    "\n",
    "print('Test R2 Score:', round((metrics.r2_score(y_test, pred_fb_r)), 3))\n",
    "print('Test RMSE:', round(np.sqrt(metrics.mean_squared_error(y_test, pred_fb_r)), 3))\n",
    "print('Test MAE:', round(metrics.mean_absolute_error(y_test, pred_fb_r), 3))\n",
    "print('Cross Val Score:', cross_val_score(lr, X_test, y_test, cv = cv))\n",
    "print('Cross Val Score:', round(cross_val_score(lr, X_test, y_test, cv = cv).mean(), 3), '\\n')\n",
    "print('R2 Score:', round((metrics.r2_score(y, pred)), 3))\n",
    "print('RMSE:', round(np.sqrt(metrics.mean_squared_error(y, pred)), 3))\n",
    "print('MAE:', round(metrics.mean_absolute_error(y, pred), 3))"
   ]
  },
  {
   "cell_type": "markdown",
   "id": "d05fc4b9",
   "metadata": {},
   "source": [
    "- Average RHP FB Run Value prediction error is .26 runs"
   ]
  },
  {
   "cell_type": "code",
   "execution_count": 8,
   "id": "89bb30c7",
   "metadata": {},
   "outputs": [],
   "source": [
    "features_fb_r_tu = rhp_fb_tu.select_dtypes([np.number])\n",
    "#features_fb_r_tu.dropna(inplace=True)\n",
    "X_tu = features_fb_r_tu\n",
    "pred_tu = lr.predict(X_tu)"
   ]
  },
  {
   "cell_type": "code",
   "execution_count": 9,
   "id": "4105bc03",
   "metadata": {},
   "outputs": [
    {
     "data": {
      "text/plain": [
       "(2450,)"
      ]
     },
     "execution_count": 9,
     "metadata": {},
     "output_type": "execute_result"
    }
   ],
   "source": [
    "pred_tu.shape"
   ]
  },
  {
   "cell_type": "code",
   "execution_count": 10,
   "id": "bbc20be5",
   "metadata": {},
   "outputs": [],
   "source": [
    "rhp_fb_tu['n_pitches'] = 1\n",
    "rhp_fb_tu['xRV'] = pred_tu\n",
    "rhp_fb_tu['xRV/100'] = round(((rhp_fb_tu['xRV'] / (rhp_fb_tu['n_pitches'])) * 100), 2)\n",
    "\n",
    "rhp_fb_tu['Stuff+'] = (100 * (-rhp_fb_tu['xRV/100'] / -rhp_fb_tu['xRV/100'].mean()))\n",
    "#rhp_fb.head()\n",
    "\n",
    "grouped_fb_r_tu = rhp_fb_tu.groupby(['Pitcher', 'PitcherThrows', 'TaggedPitchType'], \n",
    "                              as_index = False)['n_pitches', 'xRV'].sum()\n",
    "\n",
    "avg_fb_r_tu = rhp_fb_tu.groupby(['Pitcher', 'PitcherThrows', 'TaggedPitchType'], \n",
    "                          as_index = False)['RelSpeed', 'HorzBreak', 'InducedVertBreak', 'RelSide', 'RelHeight', \n",
    "                                            'Extension', 'Stuff+'].mean()\n",
    "fbr_stuff_tu = pd.merge(avg_fb_r_tu, grouped_fb_r_tu, how = 'left', \n",
    "                        on = ['Pitcher', 'PitcherThrows', 'TaggedPitchType'])\n",
    "\n",
    "fbr_stuff_tu['xRV/100'] = round(((fbr_stuff_tu['xRV'] / (fbr_stuff_tu['n_pitches'])) * 100), 2)\n",
    "#fbr_stuff_tu = fbr_stuff.loc[fbr_stuff['n_pitches'] >= 100]\n",
    "fbr_stuff_tu = fbr_stuff_tu.round(1)\n",
    "fbr_stuff_tu.insert(3, 'n_pitches', fbr_stuff_tu.pop('n_pitches'))\n",
    "#fbr_stuff_tu.sort_values(by = 'xRV', ascending = False).head(10)\n",
    "#fbr_stuff_tu.head(10)\n",
    "#print(fbr_stuff_tu.to_markdown())"
   ]
  },
  {
   "cell_type": "markdown",
   "id": "046648cf",
   "metadata": {},
   "source": [
    "|    | Pitcher              | PitcherThrows   | TaggedPitchType   |   n_pitches |   RelSpeed |   HorzBreak |   InducedVertBreak |   RelSide |   RelHeight |   Extension |   Stuff+ |   xRV |   xRV/100 |\n",
    "|---:|:---------------------|:----------------|:------------------|------------:|-----------:|------------:|-------------------:|----------:|------------:|------------:|---------:|------:|----------:|\n",
    "|  0 | Absher, Luke         | Right           | Four-Seam         |         455 |       85.5 |        10   |               16.6 |       1.5 |         5.8 |         6.6 |     92.4 |   7.2 |       1.6 |\n",
    "|  1 | Bonilla, Sam         | Right           | Four-Seam         |          80 |       87   |         6.4 |               14.9 |       2.1 |         5.8 |         6.6 |     88.4 |   1.2 |       1.5 |\n",
    "|  2 | Fox Birdwell, Trejen | Right           | Four-Seam         |         273 |       87   |         9.6 |               13   |       3.1 |         5.8 |         5.8 |     70   |   3.3 |       1.2 |\n",
    "|  3 | Nelson, Jonathan     | Right           | Four-Seam         |         156 |       85.1 |        12.6 |               16   |       0.8 |         5.3 |         6.1 |     66.1 |   1.8 |       1.1 |\n",
    "|  4 | Ponder, Kohen        | Right           | Four-Seam         |          38 |       84.4 |         9.3 |               11.6 |       1.5 |         5.4 |         5.6 |     95.8 |   0.6 |       1.6 |\n",
    "|  5 | Quinn, Billy         | Right           | Four-Seam         |         297 |       85.6 |        12   |               11.4 |       1.6 |         6.3 |         6.4 |     96.9 |   4.9 |       1.7 |\n",
    "|  6 | Salyards, Brady      | Right           | Four-Seam         |         328 |       87   |        11   |               19.7 |       2   |         5.7 |         6.6 |     68.2 |   3.8 |       1.2 |\n",
    "|  7 | Sliwinski, Drew      | Right           | Four-Seam         |         170 |       84.1 |         4.8 |               15.8 |       1.6 |         6   |         6.4 |    148.5 |   4.3 |       2.6 |\n",
    "|  8 | White, Tyler         | Right           | Four-Seam         |          89 |       81.6 |         4.5 |               14.2 |       0.5 |         6.4 |         6.6 |    203.2 |   3.1 |       3.5 |\n",
    "|  9 | Willett, Jacob       | Right           | Four-Seam         |         166 |       86.4 |         6   |               20.5 |       1   |         6.1 |         6.5 |    123   |   3.5 |       2.1 |\n",
    "| 10 | Willis, Seth         | Right           | Four-Seam         |         398 |       86.4 |        11.5 |               20.4 |       0.6 |         6.5 |         5.4 |    120.6 |   8.2 |       2.1 |"
   ]
  },
  {
   "cell_type": "markdown",
   "id": "0b40e7d9",
   "metadata": {},
   "source": [
    "### RHP Fastball xRV by HB & VB"
   ]
  },
  {
   "cell_type": "code",
   "execution_count": 11,
   "id": "85a065e4",
   "metadata": {},
   "outputs": [
    {
     "data": {
      "image/png": "[encoded data removed]",
      "text/plain": [
       "<Figure size 720x576 with 2 Axes>"
      ]
     },
     "metadata": {
      "needs_background": "light"
     },
     "output_type": "display_data"
    }
   ],
   "source": [
    "plt.figure(figsize = (10, 8))\n",
    "\n",
    "plt.hexbin(rhp_fb_tu['HorzBreak'], rhp_fb_tu['InducedVertBreak'], C = rhp_fb_tu['Stuff+'], cmap = 'coolwarm', \n",
    "           mincnt = 2, gridsize = 20)\n",
    "cb = plt.colorbar(ticks = [0, 50, 100, 150, 200], shrink = .75)\n",
    "cb.ax.set_title('Stuff+'), plt.clim(0, 200)\n",
    "plt.xlabel('HB'), plt.ylabel('VB'), plt.xlim(-30, 30), plt.ylim(-30, 30)\n",
    "plt.axhline(0, color = 'black', ls = '--'), plt.axvline(0, color = 'black', ls = '--')\n",
    "plt.title('RHP Fastball Stuff+ Break Plot', fontsize = 14, fontweight = 'bold', pad = 15);\n",
    "#print('RHP Fastball Avg Stuff+:', round(rhp_fb['Stuff+'].mean(), 2))"
   ]
  },
  {
   "cell_type": "markdown",
   "id": "ad97f3ff",
   "metadata": {},
   "source": [
    "## Fastball LHP Grouped\n",
    "\n",
    "#### 4-Seam, Sinker"
   ]
  },
  {
   "cell_type": "code",
   "execution_count": 12,
   "id": "c32fff54",
   "metadata": {},
   "outputs": [
    {
     "name": "stdout",
     "output_type": "stream",
     "text": [
      "Baseline LHP Fastball RunValue Accuracy Score: -0.01\n"
     ]
    }
   ],
   "source": [
    "print('Baseline LHP Fastball RunValue Accuracy Score:', round(lhp_fb.rv.mean(), 2))"
   ]
  },
  {
   "cell_type": "code",
   "execution_count": 13,
   "id": "a9487d6f",
   "metadata": {},
   "outputs": [
    {
     "name": "stdout",
     "output_type": "stream",
     "text": [
      "Test R2 Score: 0.001\n",
      "Test RMSE: 0.254\n",
      "Test MAE: 0.13\n",
      "Cross Val Score: [ 8.28537067e-04  3.84167253e-04 -9.28805082e-04  8.56752915e-05\n",
      "  7.42803280e-04]\n",
      "Cross Val Score: 0.0 \n",
      "\n",
      "R2 Score: 0.001\n",
      "RMSE: 0.253\n",
      "MAE: 0.13\n"
     ]
    }
   ],
   "source": [
    "features_fb_l = lhp_fb.select_dtypes([np.number])\n",
    "X = features_fb_l.drop(columns = ['rv'])\n",
    "y = features_fb_l['rv']\n",
    "\n",
    "X_train, X_test, y_train, y_test = train_test_split(X, y, test_size = .25, random_state = 1)\n",
    "\n",
    "lr = LinearRegression(n_jobs = -1).fit(X_train, y_train)\n",
    "\n",
    "pred_fb_l = lr.predict(X_test)\n",
    "pred = lr.predict(X)\n",
    "\n",
    "cv = ShuffleSplit(n_splits=5, test_size=0.2, random_state=1)\n",
    "\n",
    "print('Test R2 Score:', round((metrics.r2_score(y_test, pred_fb_l)), 3))\n",
    "print('Test RMSE:', round(np.sqrt(metrics.mean_squared_error(y_test, pred_fb_l)), 3))\n",
    "print('Test MAE:', round(metrics.mean_absolute_error(y_test, pred_fb_l), 3))\n",
    "print('Cross Val Score:', cross_val_score(lr, X_test, y_test, cv = cv))\n",
    "print('Cross Val Score:', round(cross_val_score(lr, X_test, y_test, cv = cv).mean(), 3), '\\n')\n",
    "print('R2 Score:', round((metrics.r2_score(y, pred)), 3))\n",
    "print('RMSE:', round(np.sqrt(metrics.mean_squared_error(y, pred)), 3))\n",
    "print('MAE:', round(metrics.mean_absolute_error(y, pred), 3))"
   ]
  },
  {
   "cell_type": "code",
   "execution_count": 14,
   "id": "e3089372",
   "metadata": {},
   "outputs": [],
   "source": [
    "features_fb_l_tu = lhp_fb_tu.select_dtypes([np.number])\n",
    "#features_fb_l_tu.dropna(inplace=True)\n",
    "X_tu = features_fb_l_tu\n",
    "pred_tu = lr.predict(X_tu)"
   ]
  },
  {
   "cell_type": "markdown",
   "id": "ea2277be",
   "metadata": {},
   "source": [
    "- Average LHP FB Run Value prediction error is .26 runs"
   ]
  },
  {
   "cell_type": "markdown",
   "id": "c2c45ea7",
   "metadata": {},
   "source": [
    "### LHP Fastball Actual & Predicted Values"
   ]
  },
  {
   "cell_type": "code",
   "execution_count": 15,
   "id": "1b6c7928",
   "metadata": {},
   "outputs": [
    {
     "data": {
      "image/png": "[encoded data removed]",
      "text/plain": [
       "<Figure size 576x432 with 1 Axes>"
      ]
     },
     "metadata": {
      "needs_background": "light"
     },
     "output_type": "display_data"
    }
   ],
   "source": [
    "plt.figure(figsize = (8, 6))\n",
    "\n",
    "ax = sns.distplot(y, hist = False, color = 'r', label = 'Actual Values')\n",
    "sns.distplot(pred, hist = False, color = 'b', label = 'Predicted Values', ax = ax)\n",
    "plt.legend()\n",
    "plt.title('Predicted LHP Fastball Run Values', fontsize = 14, fontweight = 'bold', pad = 15);"
   ]
  },
  {
   "cell_type": "markdown",
   "id": "03009166",
   "metadata": {},
   "source": [
    "### LHP Fastball RV Table"
   ]
  },
  {
   "cell_type": "code",
   "execution_count": 16,
   "id": "a0b294a7",
   "metadata": {},
   "outputs": [
    {
     "name": "stdout",
     "output_type": "stream",
     "text": [
      "|    | Pitcher       | PitcherThrows   | TaggedPitchType   |   n_pitches |   RelSpeed |   HorzBreak |   InducedVertBreak |   RelSide |   RelHeight |   Extension |   Stuff+ |   xRV |   xRV/100 |\n",
      "|---:|:--------------|:----------------|:------------------|------------:|-----------:|------------:|-------------------:|----------:|------------:|------------:|---------:|------:|----------:|\n",
      "|  0 | Crosby, Alex  | Left            | Four-Seam         |         125 |       81.1 |       -10.9 |               11   |      -1.2 |         5.5 |         5.5 |    101.4 |   4.6 |       3.7 |\n",
      "|  1 | Martin, Scout | Left            | Four-Seam         |          45 |       80.2 |        -7.7 |               19.2 |      -1.3 |         5.7 |         5.5 |     96   |   1.6 |       3.5 |\n"
     ]
    }
   ],
   "source": [
    "lhp_fb_tu['n_pitches'] = 1\n",
    "lhp_fb_tu['xRV'] = pred_tu\n",
    "lhp_fb_tu['xRV/100'] = round(((lhp_fb_tu['xRV'] / (lhp_fb_tu['n_pitches'])) * 100), 2)\n",
    "\n",
    "lhp_fb_tu['Stuff+'] = (100 * (-lhp_fb_tu['xRV/100'] / -lhp_fb_tu['xRV/100'].mean()))\n",
    "#lhp_fb.head()\n",
    "\n",
    "grouped_fb_l_tu = lhp_fb_tu.groupby(['Pitcher', 'PitcherThrows', 'TaggedPitchType'], \n",
    "                              as_index = False)['n_pitches', 'xRV'].sum()\n",
    "\n",
    "avg_fb_l_tu = lhp_fb_tu.groupby(['Pitcher', 'PitcherThrows', 'TaggedPitchType'], \n",
    "                          as_index = False)['RelSpeed', 'HorzBreak', 'InducedVertBreak', 'RelSide', 'RelHeight', \n",
    "                                            'Extension', 'Stuff+'].mean()\n",
    "fbl_stuff_tu = pd.merge(avg_fb_l_tu, grouped_fb_l_tu, how = 'left', \n",
    "                        on = ['Pitcher', 'PitcherThrows', 'TaggedPitchType'])\n",
    "\n",
    "fbl_stuff_tu['xRV/100'] = round(((fbl_stuff_tu['xRV'] / (fbl_stuff_tu['n_pitches'])) * 100), 2)\n",
    "#fbr_stuff_tu = fbr_stuff.loc[fbr_stuff['n_pitches'] >= 100]\n",
    "fbl_stuff_tu = fbl_stuff_tu.round(1)\n",
    "fbl_stuff_tu.insert(3, 'n_pitches', fbl_stuff_tu.pop('n_pitches'))\n",
    "#fbr_stuff_tu.sort_values(by = 'xRV', ascending = False).head(10)\n",
    "fbl_stuff_tu.head(10)\n",
    "print(fbl_stuff_tu.to_markdown())"
   ]
  },
  {
   "cell_type": "markdown",
   "id": "586d2b74",
   "metadata": {},
   "source": [
    "|    | Pitcher       | PitcherThrows   | TaggedPitchType   |   n_pitches |   RelSpeed |   HorzBreak |   InducedVertBreak |   RelSide |   RelHeight |   Extension |   Stuff+ |   xRV |   xRV/100 |\n",
    "|---:|:--------------|:----------------|:------------------|------------:|-----------:|------------:|-------------------:|----------:|------------:|------------:|---------:|------:|----------:|\n",
    "|  1 | Martin, Scout | Left            | Four-Seam         |          45 |       80.2 |        -7.7 |               19.2 |      -1.3 |         5.7 |         5.5 |     96   |   1.6 |       3.5 |"
   ]
  },
  {
   "cell_type": "markdown",
   "id": "c780f27b",
   "metadata": {},
   "source": [
    "### LHP Fastball xRV by HB & VB"
   ]
  },
  {
   "cell_type": "code",
   "execution_count": 17,
   "id": "8ef8f17b",
   "metadata": {},
   "outputs": [
    {
     "data": {
      "image/png": "[encoded data removed]",
      "text/plain": [
       "<Figure size 720x576 with 2 Axes>"
      ]
     },
     "metadata": {
      "needs_background": "light"
     },
     "output_type": "display_data"
    }
   ],
   "source": [
    "plt.figure(figsize = (10, 8))\n",
    "plt.hexbin(lhp_fb_tu['HorzBreak'], lhp_fb_tu['InducedVertBreak'], C = lhp_fb_tu['Stuff+'], cmap = 'coolwarm',\n",
    "           mincnt = 1, gridsize = 20)\n",
    "cb = plt.colorbar(ticks = [0, 50, 100, 150, 200], shrink = .75)\n",
    "cb.ax.set_title('Stuff+'), plt.clim(0, 200)\n",
    "plt.xlabel('HB'), plt.ylabel('VB'), plt.xlim(-30, 30), plt.ylim(-30, 30)\n",
    "plt.axhline(0, color = 'black', ls = '--'), plt.axvline(0, color = 'black', ls = '--')\n",
    "plt.title('LHP Fastball RV Break Plot', fontsize = 14, fontweight = 'bold', pad = 15);"
   ]
  },
  {
   "cell_type": "markdown",
   "id": "11f5c470",
   "metadata": {},
   "source": [
    "## Breaking Ball RHP\n",
    "\n",
    "#### Slider, Cutter, Curveball, Knuckle Curve"
   ]
  },
  {
   "cell_type": "code",
   "execution_count": 18,
   "id": "a93113cf",
   "metadata": {},
   "outputs": [
    {
     "name": "stdout",
     "output_type": "stream",
     "text": [
      "Baseline RHP Breaking Ball RunValue Accuracy Score: -0.02\n"
     ]
    }
   ],
   "source": [
    "print('Baseline RHP Breaking Ball RunValue Accuracy Score:', round(rhp_bb.rv.mean(), 2))"
   ]
  },
  {
   "cell_type": "code",
   "execution_count": 19,
   "id": "fe675009",
   "metadata": {},
   "outputs": [
    {
     "name": "stdout",
     "output_type": "stream",
     "text": [
      "Test R2 Score: 0.001\n",
      "Test RMSE: 0.246\n",
      "Test MAE: 0.125\n",
      "Cross Val Score: [1.03171913e-03 1.05936146e-05 1.06687632e-03 1.45397342e-04\n",
      " 4.77186923e-04]\n",
      "Cross Val Score: 0.001 \n",
      "\n",
      "R2 Score: 0.001\n",
      "RMSE: 0.248\n",
      "MAE: 0.126\n"
     ]
    }
   ],
   "source": [
    "rhp_bb.dropna(inplace = True)\n",
    "features_bb_r = rhp_bb.select_dtypes([np.number])\n",
    "X = features_bb_r.drop(columns = ['rv'])\n",
    "y = features_bb_r['rv']\n",
    "\n",
    "X_train, X_test, y_train, y_test = train_test_split(X, y, test_size = .25, random_state = 1)\n",
    "\n",
    "lr = LinearRegression(n_jobs = -1).fit(X_train, y_train)\n",
    "\n",
    "pred_bb_r = lr.predict(X_test)\n",
    "pred = lr.predict(X)\n",
    "\n",
    "cv = ShuffleSplit(n_splits=5, test_size=0.2, random_state=1)\n",
    "\n",
    "print('Test R2 Score:', round((metrics.r2_score(y_test, pred_bb_r)), 3))\n",
    "print('Test RMSE:', round(np.sqrt(metrics.mean_squared_error(y_test, pred_bb_r)), 3))\n",
    "print('Test MAE:', round(metrics.mean_absolute_error(y_test, pred_bb_r), 3))\n",
    "print('Cross Val Score:', cross_val_score(lr, X_test, y_test, cv = cv))\n",
    "print('Cross Val Score:', round(cross_val_score(lr, X_test, y_test, cv = cv).mean(), 3), '\\n')\n",
    "print('R2 Score:', round((metrics.r2_score(y, pred)), 3))\n",
    "print('RMSE:', round(np.sqrt(metrics.mean_squared_error(y, pred)), 3))\n",
    "print('MAE:', round(metrics.mean_absolute_error(y, pred), 3))"
   ]
  },
  {
   "cell_type": "code",
   "execution_count": 20,
   "id": "1e10779c",
   "metadata": {},
   "outputs": [],
   "source": [
    "features_bb_r_tu = rhp_bb_tu.select_dtypes([np.number])\n",
    "#features_bb_r_tu.dropna(inplace=True)\n",
    "X_tu = features_bb_r_tu\n",
    "pred_tu = lr.predict(X_tu)"
   ]
  },
  {
   "cell_type": "code",
   "execution_count": 21,
   "id": "5bbc0521",
   "metadata": {},
   "outputs": [],
   "source": [
    "rhp_bb_tu['n_pitches'] = 1\n",
    "rhp_bb_tu['xRV'] = pred_tu\n",
    "rhp_bb_tu['xRV/100'] = round(((rhp_bb_tu['xRV'] / (rhp_bb_tu['n_pitches'])) * 100), 2)\n",
    "\n",
    "rhp_bb_tu['Stuff+'] = (100 * (-rhp_bb_tu['xRV/100'] / -rhp_bb_tu['xRV/100'].mean()))\n",
    "#rhp_bb.head()\n",
    "\n",
    "grouped_bb_r_tu = rhp_bb_tu.groupby(['Pitcher', 'PitcherThrows', 'TaggedPitchType'], \n",
    "                              as_index = False)['n_pitches', 'xRV'].sum()\n",
    "\n",
    "avg_bb_r_tu = rhp_bb_tu.groupby(['Pitcher', 'PitcherThrows', 'TaggedPitchType'], \n",
    "                          as_index = False)['RelSpeed', 'HorzBreak', 'InducedVertBreak', 'RelSide', 'RelHeight', \n",
    "                                            'Extension', 'Stuff+'].mean()\n",
    "bbr_stuff_tu = pd.merge(avg_bb_r_tu, grouped_bb_r_tu, how = 'left', \n",
    "                        on = ['Pitcher', 'PitcherThrows', 'TaggedPitchType'])\n",
    "\n",
    "bbr_stuff_tu['xRV/100'] = round(((bbr_stuff_tu['xRV'] / (bbr_stuff_tu['n_pitches'])) * 100), 2)\n",
    "#bbr_stuff_tu = bbr_stuff.loc[bbr_stuff['n_pitches'] >= 100]\n",
    "bbr_stuff_tu = bbr_stuff_tu.round(1)\n",
    "bbr_stuff_tu.insert(3, 'n_pitches', bbr_stuff_tu.pop('n_pitches'))\n",
    "#bbr_stuff_tu.sort_values(by = 'xRV', ascending = False).head(10)\n",
    "#bbr_stuff_tu.head(10)\n",
    "#print(bbr_stuff_tu.to_markdown())"
   ]
  },
  {
   "cell_type": "markdown",
   "id": "6b95444f",
   "metadata": {},
   "source": [
    "|    | Pitcher              | PitcherThrows   | TaggedPitchType   |   n_pitches |   RelSpeed |   HorzBreak |   InducedVertBreak |   RelSide |   RelHeight |   Extension |   Stuff+ |   xRV |   xRV/100 |\n",
    "|---:|:---------------------|:----------------|:------------------|------------:|-----------:|------------:|-------------------:|----------:|------------:|------------:|---------:|------:|----------:|\n",
    "|  0 | Absher, Luke         | Right           | Curveball         |          37 |       73.6 |        -8   |               -1.9 |       1.8 |         5.7 |         5.8 |   -172.4 |   0   |       0   |\n",
    "|  1 | Absher, Luke         | Right           | Slider            |          95 |       74.2 |        -7.7 |                0   |       1.8 |         5.6 |         5.9 |   -909.5 |   0.2 |       0.2 |\n",
    "|  2 | Bonilla, Sam         | Right           | Curveball         |           1 |       72.9 |       -15.2 |              -15.1 |       3   |         5.7 |         5.6 |   5765.7 |  -0   |      -1.4 |\n",
    "|  3 | Bonilla, Sam         | Right           | Slider            |          26 |       75.6 |       -12.9 |               -3.2 |       2.3 |         5.7 |         5.8 |   2225.5 |  -0.1 |      -0.5 |\n",
    "|  4 | Fox Birdwell, Trejen | Right           | Curveball         |           9 |       76.1 |        -3.3 |               -3.7 |       2.9 |         5.8 |         5.7 |   -286.2 |   0   |       0.1 |\n",
    "|  5 | Fox Birdwell, Trejen | Right           | Slider            |         103 |       77.5 |        -7.5 |               -1.7 |       3.1 |         5.7 |         5.5 |    626.5 |  -0.2 |      -0.2 |\n",
    "|  6 | Nelson, Jonathan     | Right           | Curveball         |           8 |       73.4 |        -5.6 |               -6.5 |       0.9 |         5.3 |         5.5 |   3629.1 |  -0.1 |      -0.9 |\n",
    "|  7 | Nelson, Jonathan     | Right           | Slider            |          36 |       74.4 |        -8.2 |               -5.1 |       0.9 |         5.2 |         5.5 |   4367.5 |  -0.4 |      -1.1 |\n",
    "|  8 | Ponder, Kohen        | Right           | Curveball         |          18 |       67.4 |       -21.1 |               -2.9 |       1.5 |         5.4 |         5   |    674.7 |  -0   |      -0.2 |\n",
    "|  9 | Ponder, Kohen        | Right           | Slider            |          10 |       69.6 |       -18.6 |               -2.6 |       1.4 |         5.5 |         5   |   1639.8 |  -0   |      -0.4 |\n",
    "| 10 | Quinn, Billy         | Right           | Curveball         |          12 |       72.6 |        -7.2 |               -1.7 |       1.6 |         6.1 |         5.9 |  -1335.8 |   0   |       0.3 |\n",
    "| 11 | Quinn, Billy         | Right           | Slider            |          84 |       76.4 |        -7   |               -0.2 |       1.7 |         6.1 |         5.9 |    194.7 |  -0   |      -0   |\n",
    "| 12 | Salyards, Brady      | Right           | Curveball         |          37 |       70   |       -12.3 |              -11.8 |       1.6 |         5.9 |         5.9 |   3027.1 |  -0.3 |      -0.7 |\n",
    "| 13 | Salyards, Brady      | Right           | Cutter            |          94 |       78.7 |        -4.6 |                6.2 |       2.1 |         5.6 |         6.2 |  -2353.9 |   0.5 |       0.6 |\n",
    "| 14 | Salyards, Brady      | Right           | Slider            |          68 |       78   |        -5.8 |                4   |       2   |         5.7 |         6.2 |  -1347   |   0.2 |       0.3 |\n",
    "| 15 | Sliwinski, Drew      | Right           | Curveball         |          98 |       78.5 |        -1.3 |               -0.9 |       1.8 |         5.9 |         5.9 |    784.9 |  -0.2 |      -0.2 |\n",
    "| 16 | Sliwinski, Drew      | Right           | Slider            |          30 |       77.5 |        -2   |               -0.9 |       1.9 |         5.8 |         6.1 |     30   |  -0   |      -0   |\n",
    "| 17 | White, Tyler         | Right           | Curveball         |          23 |       70.5 |        -5   |                4.8 |       0.5 |         6.3 |         6.3 |  -5634.2 |   0.3 |       1.4 |\n",
    "| 18 | White, Tyler         | Right           | Cutter            |           2 |       76.2 |         0   |               10.4 |       0.6 |         6.4 |         6.6 |  -6133.8 |   0   |       1.5 |\n",
    "| 19 | White, Tyler         | Right           | Slider            |          35 |       72.5 |        -3.1 |                6.1 |       0.5 |         6.3 |         6.5 |  -5348.6 |   0.5 |       1.3 |\n",
    "| 20 | Willett, Jacob       | Right           | Curveball         |          27 |       74.5 |        -8.1 |                2   |       1.2 |         6   |         5.9 |  -1131.3 |   0.1 |       0.3 |\n",
    "| 21 | Willett, Jacob       | Right           | Cutter            |           1 |       84   |        -5.5 |               16.6 |       0.7 |         6.2 |         6.6 |  -2617.1 |   0   |       0.6 |\n",
    "| 22 | Willett, Jacob       | Right           | Slider            |          67 |       75.9 |        -8.5 |                3   |       1   |         6   |         5.9 |   -180   |   0   |       0   |\n",
    "| 23 | Willis, Seth         | Right           | Curveball         |         137 |       71.7 |        -0.8 |               -9.3 |       0.6 |         6.5 |         5.1 |   2473.8 |  -0.8 |      -0.6 |\n",
    "| 24 | Willis, Seth         | Right           | Slider            |          15 |       73.3 |         1.3 |               -5.3 |       0.6 |         6.5 |         5.1 |   1185.9 |  -0   |      -0.3 |"
   ]
  },
  {
   "cell_type": "markdown",
   "id": "5c6ca898",
   "metadata": {},
   "source": [
    "- Average RHP Breaking Ball Run Value prediction error is .26 runs"
   ]
  },
  {
   "cell_type": "markdown",
   "id": "6b8a3054",
   "metadata": {},
   "source": [
    "### RHP Breaking Ball Actual & Predicted Values"
   ]
  },
  {
   "cell_type": "code",
   "execution_count": 22,
   "id": "21b205e3",
   "metadata": {},
   "outputs": [
    {
     "data": {
      "image/png": "[encoded data removed]",
      "text/plain": [
       "<Figure size 576x432 with 1 Axes>"
      ]
     },
     "metadata": {
      "needs_background": "light"
     },
     "output_type": "display_data"
    }
   ],
   "source": [
    "plt.figure(figsize = (8, 6))\n",
    "\n",
    "ax = sns.distplot(y, hist = False, color = 'r', label = 'Actual Values')\n",
    "sns.distplot(pred, hist = False, color = 'b', label = 'Predicted Values', ax = ax)\n",
    "plt.legend()\n",
    "plt.title('Predicted RHP Breaking Ball Run Values', fontsize = 14, fontweight = 'bold', pad = 15);"
   ]
  },
  {
   "cell_type": "markdown",
   "id": "daaf1cba",
   "metadata": {},
   "source": [
    "### RHP Breaking Ball RV Table"
   ]
  },
  {
   "cell_type": "markdown",
   "id": "48b5f49a",
   "metadata": {},
   "source": [
    "### RHP Breaking Ball xRV by HB & VB"
   ]
  },
  {
   "cell_type": "code",
   "execution_count": 23,
   "id": "22fb63cc",
   "metadata": {},
   "outputs": [
    {
     "data": {
      "image/png": "[encoded data removed]",
      "text/plain": [
       "<Figure size 720x576 with 2 Axes>"
      ]
     },
     "metadata": {
      "needs_background": "light"
     },
     "output_type": "display_data"
    }
   ],
   "source": [
    "plt.figure(figsize = (10, 8))\n",
    "\n",
    "plt.hexbin(rhp_bb_tu['HorzBreak'], rhp_bb_tu['InducedVertBreak'], C = rhp_bb_tu['Stuff+'],cmap='coolwarm',\n",
    "           mincnt = 5, gridsize = 20)\n",
    "cb = plt.colorbar(ticks = [0, 50, 100, 150, 200], shrink = .75)\n",
    "cb.ax.set_title('Stuff+'), plt.clim(0, 200)\n",
    "plt.xlabel('HB'), plt.ylabel('VB'), plt.xlim(-30, 30), plt.ylim(-30, 30)\n",
    "plt.axhline(0, color = 'black', ls = '--'), plt.axvline(0, color = 'black', ls = '--')\n",
    "plt.title('RHP Breaking Ball RV Break Plot', fontsize = 14, fontweight = 'bold', pad = 15);"
   ]
  },
  {
   "cell_type": "markdown",
   "id": "87baf4b8",
   "metadata": {},
   "source": [
    "## Breaking Ball LHP\n",
    "#### Slider, Cutter, Curveball, Knuckle Curve"
   ]
  },
  {
   "cell_type": "code",
   "execution_count": 24,
   "id": "18e5735d",
   "metadata": {},
   "outputs": [
    {
     "name": "stdout",
     "output_type": "stream",
     "text": [
      "Baseline LHP Breaking Ball RunValue Accuracy Score: -0.02\n"
     ]
    }
   ],
   "source": [
    "print('Baseline LHP Breaking Ball RunValue Accuracy Score:', round(lhp_bb.rv.mean(), 2))"
   ]
  },
  {
   "cell_type": "code",
   "execution_count": 25,
   "id": "c769acd7",
   "metadata": {},
   "outputs": [
    {
     "name": "stdout",
     "output_type": "stream",
     "text": [
      "Test R2 Score: 0.001\n",
      "Test RMSE: 0.246\n",
      "Test MAE: 0.127\n",
      "Cross Val Score: [-0.0019186  -0.000218   -0.00057317 -0.00141016  0.00105717]\n",
      "Cross Val Score: -0.001 \n",
      "\n",
      "R2 Score: 0.001\n",
      "RMSE: 0.252\n",
      "MAE: 0.129\n"
     ]
    }
   ],
   "source": [
    "features_bb_l = lhp_bb.select_dtypes([np.number])\n",
    "X = features_bb_l.drop(columns = ['rv'])\n",
    "y = features_bb_l['rv']\n",
    "\n",
    "X_train, X_test, y_train, y_test = train_test_split(X, y, test_size = .25, random_state = 1)\n",
    "\n",
    "lr = LinearRegression(n_jobs = -1).fit(X_train, y_train)\n",
    "\n",
    "pred_bb_l = lr.predict(X_test)\n",
    "pred = lr.predict(X)\n",
    "\n",
    "cv = ShuffleSplit(n_splits=5, test_size=0.2, random_state=1)\n",
    "\n",
    "print('Test R2 Score:', round((metrics.r2_score(y_test, pred_bb_l)), 3))\n",
    "print('Test RMSE:', round(np.sqrt(metrics.mean_squared_error(y_test, pred_bb_l)), 3))\n",
    "print('Test MAE:', round(metrics.mean_absolute_error(y_test, pred_bb_l), 3))\n",
    "print('Cross Val Score:', cross_val_score(lr, X_test, y_test, cv = cv))\n",
    "print('Cross Val Score:', round(cross_val_score(lr, X_test, y_test, cv = cv).mean(), 3), '\\n')\n",
    "print('R2 Score:', round((metrics.r2_score(y, pred)), 3))\n",
    "print('RMSE:', round(np.sqrt(metrics.mean_squared_error(y, pred)), 3))\n",
    "print('MAE:', round(metrics.mean_absolute_error(y, pred), 3))"
   ]
  },
  {
   "cell_type": "code",
   "execution_count": 26,
   "id": "3cf72afb",
   "metadata": {},
   "outputs": [],
   "source": [
    "features_bb_r_tu = lhp_bb_tu.select_dtypes([np.number])\n",
    "#features_bb_r_tu.dropna(inplace=True)\n",
    "X_tu = features_bb_r_tu\n",
    "pred_tu = lr.predict(X_tu)"
   ]
  },
  {
   "cell_type": "code",
   "execution_count": 27,
   "id": "029aa554",
   "metadata": {},
   "outputs": [],
   "source": [
    "lhp_bb_tu['n_pitches'] = 1\n",
    "lhp_bb_tu['xRV'] = pred_tu\n",
    "lhp_bb_tu['xRV/100'] = round(((lhp_bb_tu['xRV'] / (lhp_bb_tu['n_pitches'])) * 100), 2)\n",
    "\n",
    "lhp_bb_tu['Stuff+'] = (100 * (-lhp_bb_tu['xRV/100'] / -lhp_bb_tu['xRV/100'].mean()))\n",
    "#lhp_bb.head()\n",
    "\n",
    "grouped_bb_r_tu = lhp_bb_tu.groupby(['Pitcher', 'PitcherThrows', 'TaggedPitchType'], \n",
    "                              as_index = False)['n_pitches', 'xRV'].sum()\n",
    "\n",
    "avg_bb_r_tu = lhp_bb_tu.groupby(['Pitcher', 'PitcherThrows', 'TaggedPitchType'], \n",
    "                          as_index = False)['RelSpeed', 'HorzBreak', 'InducedVertBreak', 'RelSide', 'RelHeight', \n",
    "                                            'Extension', 'Stuff+'].mean()\n",
    "bbl_stuff_tu = pd.merge(avg_bb_r_tu, grouped_bb_r_tu, how = 'left', \n",
    "                        on = ['Pitcher', 'PitcherThrows', 'TaggedPitchType'])\n",
    "\n",
    "bbl_stuff_tu['xRV/100'] = round(((bbl_stuff_tu['xRV'] / (bbl_stuff_tu['n_pitches'])) * 100), 2)\n",
    "#bbl_stuff_tu = bbl_stuff.loc[bbl_stuff['n_pitches'] >= 100]\n",
    "bbl_stuff_tu = bbl_stuff_tu.round(1)\n",
    "bbl_stuff_tu.insert(3, 'n_pitches', bbl_stuff_tu.pop('n_pitches'))\n",
    "#bbl_stuff_tu.sort_values(by = 'xRV', ascending = False).head(10)\n",
    "#bbl_stuff_tu.head(10)\n",
    "#print(bbl_stuff_tu.to_markdown())"
   ]
  },
  {
   "cell_type": "markdown",
   "id": "e0cc0fd2",
   "metadata": {},
   "source": [
    "|    | Pitcher       | PitcherThrows   | TaggedPitchType   |   n_pitches |   RelSpeed |   HorzBreak |   InducedVertBreak |   RelSide |   RelHeight |   Extension |   Stuff+ |   xRV |   xRV/100 |\n",
    "|---:|:--------------|:----------------|:------------------|------------:|-----------:|------------:|-------------------:|----------:|------------:|------------:|---------:|------:|----------:|\n",
    "|  0 | Crosby, Alex  | Left            | Curveball         |           7 |       71.3 |         8.5 |                2.7 |      -1.2 |         5.6 |         4.9 |      2.2 |  -0   |      -0   |\n",
    "|  1 | Crosby, Alex  | Left            | Slider            |          36 |       73.5 |         4.5 |                4.1 |      -1.3 |         5.4 |         5.1 |    110.4 |  -0.3 |      -0.8 |\n",
    "|  2 | Martin, Scout | Left            | Curveball         |           9 |       72.6 |         8.2 |               -0.2 |      -1.3 |         5.8 |         5.2 |     93.7 |  -0.1 |      -0.7 |\n",
    "|  3 | Martin, Scout | Left            | Slider            |           6 |       72.7 |         6.5 |                0.3 |      -1.2 |         5.8 |         5.5 |    161   |  -0.1 |      -1.1 |"
   ]
  },
  {
   "cell_type": "markdown",
   "id": "3db9082a",
   "metadata": {},
   "source": [
    "- Average LHP Breaking Ball Run Value prediction error is .26 runs"
   ]
  },
  {
   "cell_type": "markdown",
   "id": "6c0a4b1a",
   "metadata": {},
   "source": [
    "### LHP Breaking Ball Actual & Predicted Values"
   ]
  },
  {
   "cell_type": "code",
   "execution_count": 28,
   "id": "9791a730",
   "metadata": {},
   "outputs": [
    {
     "data": {
      "image/png": "[encoded data removed]",
      "text/plain": [
       "<Figure size 576x432 with 1 Axes>"
      ]
     },
     "metadata": {
      "needs_background": "light"
     },
     "output_type": "display_data"
    }
   ],
   "source": [
    "plt.figure(figsize = (8, 6))\n",
    "\n",
    "ax = sns.distplot(y, hist = False, color = 'r', label = 'Actual Values')\n",
    "sns.distplot(pred, hist = False, color = 'b', label = 'Predicted Values', ax = ax)\n",
    "plt.legend()\n",
    "plt.title('Predicted LHP Breaking Ball Run Values', fontsize = 14, fontweight = 'bold', pad = 15);"
   ]
  },
  {
   "cell_type": "markdown",
   "id": "fc640f33",
   "metadata": {},
   "source": [
    "### LHP Breaking Ball RV Table"
   ]
  },
  {
   "cell_type": "markdown",
   "id": "d0d63d8e",
   "metadata": {},
   "source": [
    "### LHP Breaking Ball xRV by HB & VB"
   ]
  },
  {
   "cell_type": "code",
   "execution_count": 29,
   "id": "09d95986",
   "metadata": {},
   "outputs": [
    {
     "data": {
      "image/png": "[encoded data removed]",
      "text/plain": [
       "<Figure size 720x576 with 2 Axes>"
      ]
     },
     "metadata": {
      "needs_background": "light"
     },
     "output_type": "display_data"
    }
   ],
   "source": [
    "plt.figure(figsize = (10, 8))\n",
    "\n",
    "plt.hexbin(lhp_bb_tu['HorzBreak'], lhp_bb_tu['InducedVertBreak'], C = lhp_bb_tu['Stuff+'],cmap='coolwarm', \n",
    "           mincnt = 2, gridsize = 20)\n",
    "cb = plt.colorbar(ticks = [0, 50, 100, 150, 200], shrink = .75)\n",
    "cb.ax.set_title('Stuff+'), plt.clim(0, 200)\n",
    "plt.xlabel('HB'), plt.ylabel('VB'), plt.xlim(-30, 30), plt.ylim(-30, 30)\n",
    "plt.axhline(0, color = 'black', ls = '--'), plt.axvline(0, color = 'black', ls = '--')\n",
    "plt.title('LHP Breaking Ball Stuff+ Movement Plot', fontsize = 14, fontweight = 'bold', pad = 15);\n",
    "#print('LHP Breaking Ball Avgerage Stuff+:', round(lhp_bb['Stuff+'].mean(), 2))"
   ]
  },
  {
   "cell_type": "markdown",
   "id": "86ec1113",
   "metadata": {},
   "source": [
    "## Off Speed RHP\n",
    "\n",
    "#### Changeup, Splitter"
   ]
  },
  {
   "cell_type": "code",
   "execution_count": 30,
   "id": "a8895c07",
   "metadata": {},
   "outputs": [
    {
     "name": "stdout",
     "output_type": "stream",
     "text": [
      "Baseline RHP Off Speed RunValue Accuracy Score: -0.02\n"
     ]
    }
   ],
   "source": [
    "print('Baseline RHP Off Speed RunValue Accuracy Score:', round(rhp_os.rv.mean(), 2))"
   ]
  },
  {
   "cell_type": "code",
   "execution_count": 31,
   "id": "8a8ac50c",
   "metadata": {},
   "outputs": [
    {
     "name": "stdout",
     "output_type": "stream",
     "text": [
      "Test R2 Score: 0.0\n",
      "Test RMSE: 0.258\n",
      "Test MAE: 0.137\n",
      "Cross Val Score: [ 0.00058021 -0.00036001 -0.00129048  0.00045615  0.00019638]\n",
      "Cross Val Score: -0.0 \n",
      "\n",
      "R2 Score: 0.001\n",
      "RMSE: 0.255\n",
      "MAE: 0.136\n"
     ]
    }
   ],
   "source": [
    "features_os_r = rhp_os.select_dtypes([np.number])\n",
    "X = features_os_r.drop(columns = ['rv'])\n",
    "y = features_os_r['rv']\n",
    "\n",
    "X_train, X_test, y_train, y_test = train_test_split(X, y, test_size = .25, random_state = 1)\n",
    "\n",
    "lr = LinearRegression(n_jobs = -1).fit(X_train, y_train)\n",
    "\n",
    "pred_os_r = lr.predict(X_test)\n",
    "pred = lr.predict(X)\n",
    "\n",
    "cv = ShuffleSplit(n_splits=5, test_size=0.2, random_state=1)\n",
    "\n",
    "print('Test R2 Score:', round((metrics.r2_score(y_test, pred_os_r)), 3))\n",
    "print('Test RMSE:', round(np.sqrt(metrics.mean_squared_error(y_test, pred_os_r)), 3))\n",
    "print('Test MAE:', round(metrics.mean_absolute_error(y_test, pred_os_r), 3))\n",
    "print('Cross Val Score:', cross_val_score(lr, X_test, y_test, cv = cv))\n",
    "print('Cross Val Score:', round(cross_val_score(lr, X_test, y_test, cv = cv).mean(), 3), '\\n')\n",
    "print('R2 Score:', round((metrics.r2_score(y, pred)), 3))\n",
    "print('RMSE:', round(np.sqrt(metrics.mean_squared_error(y, pred)), 3))\n",
    "print('MAE:', round(metrics.mean_absolute_error(y, pred), 3))"
   ]
  },
  {
   "cell_type": "code",
   "execution_count": 32,
   "id": "96df613d",
   "metadata": {},
   "outputs": [],
   "source": [
    "features_os_r_tu = rhp_os_tu.select_dtypes([np.number])\n",
    "#features_os_r_tu.dropna(inplace=True)\n",
    "X_tu = features_os_r_tu\n",
    "pred_tu = lr.predict(X_tu)"
   ]
  },
  {
   "cell_type": "code",
   "execution_count": 33,
   "id": "27dea87e",
   "metadata": {},
   "outputs": [],
   "source": [
    "rhp_os_tu['n_pitches'] = 1\n",
    "rhp_os_tu['xRV'] = pred_tu\n",
    "rhp_os_tu['xRV/100'] = round(((rhp_os_tu['xRV'] / (rhp_os_tu['n_pitches'])) * 100), 2)\n",
    "\n",
    "rhp_os_tu['Stuff+'] = (100 * (-rhp_os_tu['xRV/100'] / -rhp_os_tu['xRV/100'].mean()))\n",
    "#rhp_os.head()\n",
    "\n",
    "grouped_os_r_tu = rhp_os_tu.groupby(['Pitcher', 'PitcherThrows', 'TaggedPitchType'], \n",
    "                              as_index = False)['n_pitches', 'xRV'].sum()\n",
    "\n",
    "avg_os_r_tu = rhp_os_tu.groupby(['Pitcher', 'PitcherThrows', 'TaggedPitchType'], \n",
    "                          as_index = False)['RelSpeed', 'HorzBreak', 'InducedVertBreak', 'RelSide', 'RelHeight', \n",
    "                                            'Extension', 'Stuff+'].mean()\n",
    "osr_stuff_tu = pd.merge(avg_os_r_tu, grouped_os_r_tu, how = 'left', \n",
    "                        on = ['Pitcher', 'PitcherThrows', 'TaggedPitchType'])\n",
    "\n",
    "osr_stuff_tu['xRV/100'] = round(((osr_stuff_tu['xRV'] / (osr_stuff_tu['n_pitches'])) * 100), 2)\n",
    "#osr_stuff_tu = osr_stuff.loc[osr_stuff['n_pitches'] >= 100]\n",
    "osr_stuff_tu = osr_stuff_tu.round(1)\n",
    "osr_stuff_tu.insert(3, 'n_pitches', osr_stuff_tu.pop('n_pitches'))\n",
    "#osr_stuff_tu.sort_values(by = 'xRV', ascending = False).head(10)\n",
    "#osr_stuff_tu.head(10)\n",
    "#print(osr_stuff_tu.to_markdown())"
   ]
  },
  {
   "cell_type": "markdown",
   "id": "c338beae",
   "metadata": {},
   "source": [
    "|    | Pitcher              | PitcherThrows   | TaggedPitchType   |   n_pitches |   RelSpeed |   HorzBreak |   InducedVertBreak |   RelSide |   RelHeight |   Extension |   Stuff+ |   xRV |   xRV/100 |\n",
    "|---:|:---------------------|:----------------|:------------------|------------:|-----------:|------------:|-------------------:|----------:|------------:|------------:|---------:|------:|----------:|\n",
    "|  0 | Absher, Luke         | Right           | ChangeUp          |         140 |       75.9 |         8.6 |                9.6 |       1.8 |         5.5 |         6.4 |    159.2 |  -0.6 |      -0.4 |\n",
    "|  1 | Absher, Luke         | Right           | Splitter          |          71 |       75.8 |         5.2 |                7.1 |       1.7 |         5.7 |         6.2 |    410.5 |  -0.8 |      -1.1 |\n",
    "|  2 | Bonilla, Sam         | Right           | ChangeUp          |           1 |       83.2 |         9.2 |               22.2 |       1.8 |         5.9 |         6.2 |    349   |  -0   |      -1   |\n",
    "|  3 | Fox Birdwell, Trejen | Right           | ChangeUp          |           2 |       79.8 |         7.2 |                2.4 |       3.4 |         5.7 |         5.7 |    -18   |   0   |       0   |\n",
    "|  4 | Fox Birdwell, Trejen | Right           | Splitter          |          39 |       79.4 |         6.6 |                2.2 |       3   |         5.8 |         5.7 |     64.6 |  -0.1 |      -0.2 |\n",
    "|  5 | Nelson, Jonathan     | Right           | ChangeUp          |          87 |       77.2 |        15.9 |                8.6 |       0.9 |         5.1 |         6.1 |   -482.1 |   1.2 |       1.3 |\n",
    "|  6 | Ponder, Kohen        | Right           | ChangeUp          |           1 |       81.1 |         1.7 |                8.1 |       1.7 |         5.4 |         5.3 |    316.6 |  -0   |      -0.9 |\n",
    "|  7 | Quinn, Billy         | Right           | ChangeUp          |          20 |       76.6 |        11   |                8.6 |       1.7 |         6   |         6.3 |    186.2 |  -0.1 |      -0.5 |\n",
    "|  8 | Quinn, Billy         | Right           | Splitter          |           1 |       77.9 |         7.1 |               16.6 |       1.8 |         6.2 |         6.3 |    554   |  -0   |      -1.5 |\n",
    "|  9 | Salyards, Brady      | Right           | ChangeUp          |           6 |       77   |         5.1 |               13.3 |       1.9 |         5.9 |         6.4 |    542.6 |  -0.1 |      -1.5 |\n",
    "| 10 | Salyards, Brady      | Right           | Splitter          |          89 |       77   |         6.6 |               14.5 |       1.8 |         5.9 |         6.2 |    401.5 |  -1   |      -1.1 |\n",
    "| 11 | Sliwinski, Drew      | Right           | ChangeUp          |         113 |       79.2 |         5.5 |               14.2 |       1.9 |         5.9 |         6.1 |    452.7 |  -1.4 |      -1.3 |\n",
    "| 12 | Sliwinski, Drew      | Right           | Splitter          |           1 |       79.5 |        -3.9 |               12.9 |       2.1 |         5.7 |         6.4 |   1075.6 |  -0   |      -3   |\n",
    "| 13 | White, Tyler         | Right           | ChangeUp          |          13 |       73.1 |         2.6 |               13.8 |       0.5 |         6.2 |         6.9 |   1086.1 |  -0.4 |      -3   |\n",
    "| 14 | Willett, Jacob       | Right           | ChangeUp          |           5 |       78.5 |         0.9 |               12.5 |       1.3 |         5.9 |         6.3 |    894.3 |  -0.1 |      -2.5 |\n",
    "| 15 | Willett, Jacob       | Right           | Splitter          |          24 |       76.8 |         1.5 |                5.8 |       1.3 |         5.9 |         5.9 |    701.8 |  -0.5 |      -2   |\n",
    "| 16 | Willis, Seth         | Right           | ChangeUp          |         227 |       78.7 |        18.3 |               16.2 |       0.8 |         6.4 |         5.3 |   -262.4 |   1.7 |       0.7 |"
   ]
  },
  {
   "cell_type": "markdown",
   "id": "8e2252bd",
   "metadata": {},
   "source": [
    "- Average RHP Off Speed Run Value prediction error is .26 runs"
   ]
  },
  {
   "cell_type": "markdown",
   "id": "56f57bb9",
   "metadata": {},
   "source": [
    "### RHP Off Speed Actual & Predicted Run Values"
   ]
  },
  {
   "cell_type": "code",
   "execution_count": 34,
   "id": "41fd268e",
   "metadata": {},
   "outputs": [
    {
     "data": {
      "image/png": "[encoded data removed]",
      "text/plain": [
       "<Figure size 576x432 with 1 Axes>"
      ]
     },
     "metadata": {
      "needs_background": "light"
     },
     "output_type": "display_data"
    }
   ],
   "source": [
    "plt.figure(figsize = (8, 6))\n",
    "\n",
    "ax = sns.distplot(y, hist = False, color = 'r', label = 'Actual Values')\n",
    "sns.distplot(pred, hist = False, color = 'b', label = 'Predicted Values', ax = ax)\n",
    "plt.legend()\n",
    "plt.title('Predicted RHP Off Speed Run Values', fontsize = 14, fontweight = 'bold', pad = 15);"
   ]
  },
  {
   "cell_type": "markdown",
   "id": "e2b68791",
   "metadata": {},
   "source": [
    "### RHP Off Speed RV Table"
   ]
  },
  {
   "cell_type": "markdown",
   "id": "4091ba4e",
   "metadata": {},
   "source": [
    "### RHP Off Speed xRV by HB & VB"
   ]
  },
  {
   "cell_type": "code",
   "execution_count": 35,
   "id": "e423aa1b",
   "metadata": {},
   "outputs": [
    {
     "data": {
      "image/png": "[encoded data removed]",
      "text/plain": [
       "<Figure size 720x576 with 2 Axes>"
      ]
     },
     "metadata": {
      "needs_background": "light"
     },
     "output_type": "display_data"
    }
   ],
   "source": [
    "plt.figure(figsize = (10, 8))\n",
    "\n",
    "plt.hexbin(rhp_os_tu['HorzBreak'], rhp_os_tu['InducedVertBreak'], C = rhp_os_tu['Stuff+'], cmap = 'coolwarm',\n",
    "           mincnt = 2, gridsize = 20)\n",
    "cb = plt.colorbar(ticks = [0, 50, 100, 150, 200], shrink = .75)\n",
    "cb.ax.set_title('Stuff+'), plt.clim(0, 200)\n",
    "plt.xlabel('HB'), plt.ylabel('VB'), plt.xlim(-30, 30), plt.ylim(-30, 30)\n",
    "plt.axhline(0, color = 'black', ls = '--'), plt.axvline(0, color = 'black', ls = '--')\n",
    "plt.title('RHP Off Speed Stuff+ Movement Plot', fontsize = 14, fontweight = 'bold', pad = 15);\n",
    "#print('RHP Off Speed Avg Stuff+:', round(rhp_os['Stuff+'].mean(), 2))"
   ]
  },
  {
   "cell_type": "markdown",
   "id": "6d9533cd",
   "metadata": {},
   "source": [
    "## Off Speed LHP\n",
    "#### Changeup, Splitter"
   ]
  },
  {
   "cell_type": "code",
   "execution_count": 36,
   "id": "85ede51d",
   "metadata": {},
   "outputs": [
    {
     "name": "stdout",
     "output_type": "stream",
     "text": [
      "Baseline LHP Off Speed RunValue Accuracy Score: -0.01\n"
     ]
    }
   ],
   "source": [
    "print('Baseline LHP Off Speed RunValue Accuracy Score:', round(lhp_os.rv.mean(), 2))"
   ]
  },
  {
   "cell_type": "code",
   "execution_count": 37,
   "id": "2eed8353",
   "metadata": {},
   "outputs": [
    {
     "name": "stdout",
     "output_type": "stream",
     "text": [
      "Test R2 Score: 0.001\n",
      "Test RMSE: 0.275\n",
      "Test MAE: 0.142\n",
      "Cross Val Score: [ 0.00022675 -0.00549067  0.00116623 -0.00410241  0.00130452]\n",
      "Cross Val Score: -0.001 \n",
      "\n",
      "R2 Score: 0.001\n",
      "RMSE: 0.262\n",
      "MAE: 0.138\n"
     ]
    }
   ],
   "source": [
    "features_os_l = lhp_os.select_dtypes([np.number])\n",
    "X = features_os_l.drop(columns = ['rv'])\n",
    "y = features_os_l['rv']\n",
    "\n",
    "X_train, X_test, y_train, y_test = train_test_split(X, y, test_size = .25, random_state = 1)\n",
    "\n",
    "lr = LinearRegression(n_jobs = -1).fit(X_train, y_train)\n",
    "\n",
    "pred_os_l = lr.predict(X_test)\n",
    "pred = lr.predict(X)\n",
    "\n",
    "cv = ShuffleSplit(n_splits=5, test_size=0.2, random_state=1)\n",
    "\n",
    "print('Test R2 Score:', round((metrics.r2_score(y_test, pred_os_l)), 3))\n",
    "print('Test RMSE:', round(np.sqrt(metrics.mean_squared_error(y_test, pred_os_l)), 3))\n",
    "print('Test MAE:', round(metrics.mean_absolute_error(y_test, pred_os_l), 3))\n",
    "print('Cross Val Score:', cross_val_score(lr, X_test, y_test, cv = cv))\n",
    "print('Cross Val Score:', round(cross_val_score(lr, X_test, y_test, cv = cv).mean(), 3), '\\n')\n",
    "print('R2 Score:', round((metrics.r2_score(y, pred)), 3))\n",
    "print('RMSE:', round(np.sqrt(metrics.mean_squared_error(y, pred)), 3))\n",
    "print('MAE:', round(metrics.mean_absolute_error(y, pred), 3))"
   ]
  },
  {
   "cell_type": "code",
   "execution_count": 38,
   "id": "2b2e88c6",
   "metadata": {},
   "outputs": [],
   "source": [
    "features_os_r_tu = lhp_os_tu.select_dtypes([np.number])\n",
    "#features_os_r_tu.dropna(inplace=True)\n",
    "X_tu = features_os_r_tu\n",
    "pred_tu = lr.predict(X_tu)"
   ]
  },
  {
   "cell_type": "code",
   "execution_count": 39,
   "id": "6bee0f72",
   "metadata": {},
   "outputs": [],
   "source": [
    "lhp_os_tu['n_pitches'] = 1\n",
    "lhp_os_tu['xRV'] = pred_tu\n",
    "lhp_os_tu['xRV/100'] = round(((lhp_os_tu['xRV'] / (lhp_os_tu['n_pitches'])) * 100), 2)\n",
    "\n",
    "lhp_os_tu['Stuff+'] = (100 * (-lhp_os_tu['xRV/100'] / -lhp_os_tu['xRV/100'].mean()))\n",
    "#lhp_os.head()\n",
    "\n",
    "grouped_os_r_tu = lhp_os_tu.groupby(['Pitcher', 'PitcherThrows', 'TaggedPitchType'], \n",
    "                              as_index = False)['n_pitches', 'xRV'].sum()\n",
    "\n",
    "avg_os_r_tu = lhp_os_tu.groupby(['Pitcher', 'PitcherThrows', 'TaggedPitchType'], \n",
    "                          as_index = False)['RelSpeed', 'HorzBreak', 'InducedVertBreak', 'RelSide', 'RelHeight', \n",
    "                                            'Extension', 'Stuff+'].mean()\n",
    "osl_stuff_tu = pd.merge(avg_os_r_tu, grouped_os_r_tu, how = 'left', \n",
    "                        on = ['Pitcher', 'PitcherThrows', 'TaggedPitchType'])\n",
    "\n",
    "osl_stuff_tu['xRV/100'] = round(((osl_stuff_tu['xRV'] / (osl_stuff_tu['n_pitches'])) * 100), 2)\n",
    "#osl_stuff_tu = osl_stuff.loc[osl_stuff['n_pitches'] >= 100]\n",
    "osl_stuff_tu = osl_stuff_tu.round(1)\n",
    "osl_stuff_tu.insert(3, 'n_pitches', osl_stuff_tu.pop('n_pitches'))\n",
    "#osl_stuff_tu.sort_values(by = 'xRV', ascending = False).head(10)\n",
    "#osl_stuff_tu.head(10)\n",
    "#print(osl_stuff_tu.to_markdown())"
   ]
  },
  {
   "cell_type": "markdown",
   "id": "77b62b68",
   "metadata": {},
   "source": [
    "|    | Pitcher       | PitcherThrows   | TaggedPitchType   |   n_pitches |   RelSpeed |   HorzBreak |   InducedVertBreak |   RelSide |   RelHeight |   Extension |   Stuff+ |   xRV |   xRV/100 |\n",
    "|---:|:--------------|:----------------|:------------------|------------:|-----------:|------------:|-------------------:|----------:|------------:|------------:|---------:|------:|----------:|\n",
    "|  0 | Crosby, Alex  | Left            | ChangeUp          |           8 |       74.6 |         5   |                4.2 |      -1.4 |         5.3 |         5.1 |    133.5 |     0 |       0.6 |\n",
    "|  1 | Martin, Scout | Left            | ChangeUp          |          11 |       73.9 |        -4.8 |               13.9 |      -1.4 |         5.6 |         5.8 |     75.6 |     0 |       0.4 |"
   ]
  },
  {
   "cell_type": "markdown",
   "id": "a2b66c25",
   "metadata": {},
   "source": [
    "- Average RHP Off Speed Run Value prediction error is .27 runs"
   ]
  },
  {
   "cell_type": "markdown",
   "id": "742ba78e",
   "metadata": {},
   "source": [
    "### LHP Off Speed Actual & Predicted Values"
   ]
  },
  {
   "cell_type": "code",
   "execution_count": 40,
   "id": "d3c9a09b",
   "metadata": {},
   "outputs": [
    {
     "data": {
      "image/png": "[encoded data removed]",
      "text/plain": [
       "<Figure size 576x432 with 1 Axes>"
      ]
     },
     "metadata": {
      "needs_background": "light"
     },
     "output_type": "display_data"
    }
   ],
   "source": [
    "plt.figure(figsize = (8, 6))\n",
    "\n",
    "ax = sns.distplot(y, hist = False, color = 'r', label = 'Actual Values')\n",
    "sns.distplot(pred, hist = False, color = 'b', label = 'Predicted Values', ax = ax)\n",
    "plt.legend()\n",
    "plt.title('Predicted LHP Off Speed Run Values', fontsize = 14, fontweight = 'bold', pad = 15);"
   ]
  },
  {
   "cell_type": "markdown",
   "id": "55749b5d",
   "metadata": {},
   "source": [
    "### LHP Off Speed RV Table"
   ]
  },
  {
   "cell_type": "markdown",
   "id": "f50b730e",
   "metadata": {},
   "source": [
    "### LHP Off Speed xRV by HB & VB"
   ]
  },
  {
   "cell_type": "code",
   "execution_count": 41,
   "id": "817063fe",
   "metadata": {},
   "outputs": [
    {
     "data": {
      "image/png": "[encoded data removed]",
      "text/plain": [
       "<Figure size 720x576 with 2 Axes>"
      ]
     },
     "metadata": {
      "needs_background": "light"
     },
     "output_type": "display_data"
    }
   ],
   "source": [
    "plt.figure(figsize = (10, 8))\n",
    "\n",
    "plt.hexbin(lhp_os_tu['HorzBreak'], lhp_os_tu['InducedVertBreak'], C = lhp_os_tu['Stuff+'], cmap = 'coolwarm',\n",
    "           mincnt = 1, gridsize = 20)\n",
    "cb = plt.colorbar(ticks = [0, 50, 100, 150, 200], shrink = .75)\n",
    "cb.ax.set_title('Stuff+'), plt.clim(0, 200)\n",
    "plt.xlabel('HB'), plt.ylabel('VB'), plt.xlim(-30, 30), plt.ylim(-30, 30)\n",
    "plt.axhline(0, color = 'black', ls = '--'), plt.axvline(0, color = 'black', ls = '--')\n",
    "plt.title('LHP Off Speed Stuff+ Movement Plot', fontsize = 14, fontweight = 'bold', pad = 15);\n",
    "#print('LHP Off Speed Avg Stuff+:', round(lhp_os['Stuff+'].mean(), 2))"
   ]
  }
 ],
 "metadata": {
  "kernelspec": {
   "display_name": "Python 3",
   "language": "python",
   "name": "python3"
  },
  "language_info": {
   "codemirror_mode": {
    "name": "ipython",
    "version": 3
   },
   "file_extension": ".py",
   "mimetype": "text/x-python",
   "name": "python",
   "nbconvert_exporter": "python",
   "pygments_lexer": "ipython3",
   "version": "3.8.8"
  }
 },
 "nbformat": 4,
 "nbformat_minor": 5
}
